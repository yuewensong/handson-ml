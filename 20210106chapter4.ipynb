{
 "cells": [
  {
   "cell_type": "code",
   "execution_count": 1,
   "metadata": {},
   "outputs": [],
   "source": [
    "import numpy as np\n",
    "\n",
    "X = 2 * np.random.rand(100, 1)\n",
    "y = 4 + 3 * X + np.random.randn(100, 1)"
   ]
  },
  {
   "cell_type": "code",
   "execution_count": 2,
   "metadata": {
    "scrolled": true
   },
   "outputs": [
    {
     "data": {
      "text/plain": [
       "array([[1.72137995],\n",
       "       [0.38723378],\n",
       "       [0.35943037],\n",
       "       [1.67403319],\n",
       "       [1.70278108],\n",
       "       [0.70748567],\n",
       "       [0.61734915],\n",
       "       [1.11552984],\n",
       "       [0.23244712],\n",
       "       [1.03242036],\n",
       "       [1.73578418],\n",
       "       [0.42883076],\n",
       "       [0.89130517],\n",
       "       [0.8485987 ],\n",
       "       [0.84460697],\n",
       "       [0.15772124],\n",
       "       [1.3743623 ],\n",
       "       [1.94547392],\n",
       "       [0.79064442],\n",
       "       [1.89778435],\n",
       "       [1.61364212],\n",
       "       [0.40615201],\n",
       "       [1.92151537],\n",
       "       [1.69196747],\n",
       "       [0.6900857 ],\n",
       "       [1.33792892],\n",
       "       [1.82785061],\n",
       "       [0.42226624],\n",
       "       [1.91563593],\n",
       "       [0.97963718],\n",
       "       [0.32414008],\n",
       "       [1.53338073],\n",
       "       [0.55393582],\n",
       "       [1.11555838],\n",
       "       [1.38317811],\n",
       "       [1.47806383],\n",
       "       [0.17282086],\n",
       "       [0.05456903],\n",
       "       [0.56723087],\n",
       "       [0.9713787 ],\n",
       "       [0.36766922],\n",
       "       [1.04078667],\n",
       "       [1.89540957],\n",
       "       [1.91834289],\n",
       "       [0.94989492],\n",
       "       [0.6106647 ],\n",
       "       [0.05186337],\n",
       "       [0.340156  ],\n",
       "       [1.5284491 ],\n",
       "       [1.3448866 ],\n",
       "       [0.34539029],\n",
       "       [0.08711914],\n",
       "       [1.01357382],\n",
       "       [0.87948393],\n",
       "       [0.74307484],\n",
       "       [1.75278156],\n",
       "       [0.51644796],\n",
       "       [0.05259436],\n",
       "       [0.78259904],\n",
       "       [1.0229603 ],\n",
       "       [0.86044385],\n",
       "       [1.07195591],\n",
       "       [1.28032788],\n",
       "       [1.60758089],\n",
       "       [0.50801092],\n",
       "       [0.78496187],\n",
       "       [0.27642191],\n",
       "       [0.67009967],\n",
       "       [0.6317291 ],\n",
       "       [0.48785574],\n",
       "       [0.50623046],\n",
       "       [1.12142945],\n",
       "       [1.43043732],\n",
       "       [1.46441788],\n",
       "       [1.42055683],\n",
       "       [1.98471695],\n",
       "       [1.14819705],\n",
       "       [1.8420433 ],\n",
       "       [0.13443289],\n",
       "       [1.67184619],\n",
       "       [1.40404244],\n",
       "       [0.85010088],\n",
       "       [0.15588952],\n",
       "       [1.75502237],\n",
       "       [1.46666962],\n",
       "       [0.31469707],\n",
       "       [0.76518635],\n",
       "       [0.09740421],\n",
       "       [1.40854166],\n",
       "       [1.08922454],\n",
       "       [1.99392558],\n",
       "       [1.44575609],\n",
       "       [1.76331984],\n",
       "       [1.49945681],\n",
       "       [0.46096994],\n",
       "       [1.16238873],\n",
       "       [0.12803248],\n",
       "       [0.89887781],\n",
       "       [0.43360137],\n",
       "       [1.61176341]])"
      ]
     },
     "execution_count": 2,
     "metadata": {},
     "output_type": "execute_result"
    }
   ],
   "source": [
    "X"
   ]
  },
  {
   "cell_type": "code",
   "execution_count": 3,
   "metadata": {
    "scrolled": true
   },
   "outputs": [
    {
     "data": {
      "text/plain": [
       "array([[10.34418391],\n",
       "       [ 5.87872253],\n",
       "       [ 6.33739239],\n",
       "       [ 9.46391859],\n",
       "       [ 8.33107466],\n",
       "       [ 5.8639394 ],\n",
       "       [ 6.00508667],\n",
       "       [ 8.30893857],\n",
       "       [ 4.17884615],\n",
       "       [ 6.14025237],\n",
       "       [ 9.03406122],\n",
       "       [ 5.3467136 ],\n",
       "       [ 7.26567555],\n",
       "       [ 5.78764565],\n",
       "       [ 7.38311828],\n",
       "       [ 5.49725871],\n",
       "       [ 8.15988601],\n",
       "       [ 8.52511662],\n",
       "       [ 6.15433303],\n",
       "       [ 9.98690739],\n",
       "       [ 8.85015454],\n",
       "       [ 5.86792889],\n",
       "       [ 7.8305237 ],\n",
       "       [ 9.10695273],\n",
       "       [ 4.42931256],\n",
       "       [ 7.97250394],\n",
       "       [10.24678075],\n",
       "       [ 5.65359107],\n",
       "       [10.76174664],\n",
       "       [ 7.9497959 ],\n",
       "       [ 5.79204523],\n",
       "       [ 8.8519596 ],\n",
       "       [ 6.37842768],\n",
       "       [ 6.82858391],\n",
       "       [ 9.97542546],\n",
       "       [ 7.90169429],\n",
       "       [ 3.17422181],\n",
       "       [ 3.30685718],\n",
       "       [ 6.87909399],\n",
       "       [ 5.1327494 ],\n",
       "       [ 5.19605706],\n",
       "       [ 8.12231177],\n",
       "       [ 9.60453107],\n",
       "       [ 9.16260962],\n",
       "       [ 6.55382491],\n",
       "       [ 5.62055546],\n",
       "       [ 4.31588448],\n",
       "       [ 4.40515072],\n",
       "       [ 9.72588876],\n",
       "       [ 7.70507087],\n",
       "       [ 6.03771347],\n",
       "       [ 4.30132563],\n",
       "       [ 6.82307861],\n",
       "       [ 7.74802386],\n",
       "       [ 6.25474015],\n",
       "       [10.60329584],\n",
       "       [ 5.97042089],\n",
       "       [ 3.31687245],\n",
       "       [ 7.5369117 ],\n",
       "       [ 7.0023493 ],\n",
       "       [ 7.15282354],\n",
       "       [ 5.82044345],\n",
       "       [ 7.8417652 ],\n",
       "       [10.90297947],\n",
       "       [ 6.23613034],\n",
       "       [ 5.8051436 ],\n",
       "       [ 6.2320541 ],\n",
       "       [ 5.12341526],\n",
       "       [ 6.59924961],\n",
       "       [ 5.95370353],\n",
       "       [ 5.04742847],\n",
       "       [ 6.83365195],\n",
       "       [ 8.34651595],\n",
       "       [ 7.55171371],\n",
       "       [10.44537516],\n",
       "       [ 9.76821781],\n",
       "       [ 7.40729191],\n",
       "       [ 9.04412779],\n",
       "       [ 3.57067525],\n",
       "       [ 8.03974937],\n",
       "       [ 8.97306858],\n",
       "       [ 6.50944265],\n",
       "       [ 5.45291954],\n",
       "       [ 8.60531311],\n",
       "       [ 9.31004806],\n",
       "       [ 4.96585477],\n",
       "       [ 6.31947584],\n",
       "       [ 4.90249352],\n",
       "       [ 7.20467244],\n",
       "       [ 6.61996482],\n",
       "       [11.81856558],\n",
       "       [ 7.66112286],\n",
       "       [10.15062593],\n",
       "       [ 9.35867229],\n",
       "       [ 6.63381572],\n",
       "       [ 7.14318526],\n",
       "       [ 4.44209558],\n",
       "       [ 5.10515968],\n",
       "       [ 4.69721902],\n",
       "       [ 9.04266359]])"
      ]
     },
     "execution_count": 3,
     "metadata": {},
     "output_type": "execute_result"
    }
   ],
   "source": [
    "y"
   ]
  },
  {
   "cell_type": "code",
   "execution_count": 4,
   "metadata": {},
   "outputs": [],
   "source": [
    "X_b = np.c_[np.ones((100, 1)), X]\n",
    "theta_best = np.linalg.inv(X_b.T.dot(X_b)).dot(X_b.T).dot(y)"
   ]
  },
  {
   "cell_type": "code",
   "execution_count": 5,
   "metadata": {},
   "outputs": [
    {
     "data": {
      "text/plain": [
       "array([[4.10914488],\n",
       "       [2.99778435]])"
      ]
     },
     "execution_count": 5,
     "metadata": {},
     "output_type": "execute_result"
    }
   ],
   "source": [
    "theta_best"
   ]
  },
  {
   "cell_type": "code",
   "execution_count": 6,
   "metadata": {},
   "outputs": [],
   "source": [
    "X_new = np.array([[0], [2]])"
   ]
  },
  {
   "cell_type": "code",
   "execution_count": 7,
   "metadata": {},
   "outputs": [
    {
     "data": {
      "text/plain": [
       "array([[0],\n",
       "       [2]])"
      ]
     },
     "execution_count": 7,
     "metadata": {},
     "output_type": "execute_result"
    }
   ],
   "source": [
    "X_new"
   ]
  },
  {
   "cell_type": "code",
   "execution_count": 8,
   "metadata": {},
   "outputs": [],
   "source": [
    "X_new_b = np.c_[np.ones((2, 1)), X_new]"
   ]
  },
  {
   "cell_type": "code",
   "execution_count": 9,
   "metadata": {},
   "outputs": [
    {
     "data": {
      "text/plain": [
       "array([[1., 0.],\n",
       "       [1., 2.]])"
      ]
     },
     "execution_count": 9,
     "metadata": {},
     "output_type": "execute_result"
    }
   ],
   "source": [
    "X_new_b"
   ]
  },
  {
   "cell_type": "code",
   "execution_count": 10,
   "metadata": {},
   "outputs": [],
   "source": [
    "y_predict = X_new_b.dot(theta_best)"
   ]
  },
  {
   "cell_type": "code",
   "execution_count": 11,
   "metadata": {},
   "outputs": [
    {
     "data": {
      "text/plain": [
       "array([[ 4.10914488],\n",
       "       [10.10471357]])"
      ]
     },
     "execution_count": 11,
     "metadata": {},
     "output_type": "execute_result"
    }
   ],
   "source": [
    "y_predict"
   ]
  },
  {
   "cell_type": "code",
   "execution_count": 12,
   "metadata": {},
   "outputs": [
    {
     "data": {
      "image/png": "[encoded data removed]",
      "text/plain": [
       "<Figure size 432x288 with 1 Axes>"
      ]
     },
     "metadata": {
      "needs_background": "light"
     },
     "output_type": "display_data"
    }
   ],
   "source": [
    "import matplotlib.pylab as plt\n",
    "%matplotlib inline\n",
    "\n",
    "plt.plot(X_new, y_predict, 'r-')\n",
    "plt.plot(X, y, 'b.')\n",
    "plt.axis([0, 2, 0, 15])\n",
    "plt.show()"
   ]
  },
  {
   "cell_type": "code",
   "execution_count": 13,
   "metadata": {},
   "outputs": [
    {
     "name": "stdout",
     "output_type": "stream",
     "text": [
      "[4.10914488] [[2.99778435]]\n",
      "[[ 4.10914488]\n",
      " [10.10471357]]\n"
     ]
    }
   ],
   "source": [
    "from sklearn.linear_model import LinearRegression\n",
    "lin_reg = LinearRegression()\n",
    "lin_reg.fit(X, y)\n",
    "print(lin_reg.intercept_, lin_reg.coef_)\n",
    "print(lin_reg.predict([[0],[2]]))"
   ]
  },
  {
   "cell_type": "markdown",
   "metadata": {},
   "source": [
    "### 批量梯度下降"
   ]
  },
  {
   "cell_type": "code",
   "execution_count": 14,
   "metadata": {},
   "outputs": [],
   "source": [
    "eta = 0.1\n",
    "n_iterations = 10000\n",
    "m = 100\n",
    "theta = np.random.randn(2, 1)"
   ]
  },
  {
   "cell_type": "code",
   "execution_count": 15,
   "metadata": {},
   "outputs": [
    {
     "data": {
      "text/plain": [
       "array([[0.94394323],\n",
       "       [0.68447231]])"
      ]
     },
     "execution_count": 15,
     "metadata": {},
     "output_type": "execute_result"
    }
   ],
   "source": [
    "theta"
   ]
  },
  {
   "cell_type": "code",
   "execution_count": 16,
   "metadata": {},
   "outputs": [
    {
     "name": "stdout",
     "output_type": "stream",
     "text": [
      "[[3.74086789]\n",
      " [3.30894625]]\n",
      "[[3.91711337]\n",
      " [3.160049  ]]\n"
     ]
    }
   ],
   "source": [
    "for iteration in range(n_iterations):\n",
    "    gradients = 2/m * X_b.T.dot(X_b.dot(theta) -  y)\n",
    "    theta = theta - eta * gradients\n",
    "    if iteration == 20:\n",
    "        print(theta)\n",
    "    if iteration == 41:\n",
    "        print(theta)"
   ]
  },
  {
   "cell_type": "code",
   "execution_count": 17,
   "metadata": {},
   "outputs": [
    {
     "data": {
      "text/plain": [
       "array([[4.10914488],\n",
       "       [2.99778435]])"
      ]
     },
     "execution_count": 17,
     "metadata": {},
     "output_type": "execute_result"
    }
   ],
   "source": [
    "theta"
   ]
  },
  {
   "cell_type": "code",
   "execution_count": 18,
   "metadata": {},
   "outputs": [],
   "source": [
    "n_epochs = 50\n",
    "t0, t1 = 5, 50\n",
    "def learning_schedule(t):\n",
    "    return t0 / (t + t1)\n",
    "theta = np.random.randn(2, 1)\n",
    "\n",
    "for epoch in range(n_epochs):\n",
    "    for i in range(m):\n",
    "        random_index = np.random.randint(m)\n",
    "        xi = X_b[random_index: random_index + 1]\n",
    "        yi = y[random_index: random_index + 1]\n",
    "        gradients = 2 * xi.T.dot(xi.dot(theta) - yi)\n",
    "        eta = learning_schedule(epoch * m + i)\n",
    "        theta = theta - eta * gradients"
   ]
  },
  {
   "cell_type": "code",
   "execution_count": 19,
   "metadata": {},
   "outputs": [
    {
     "data": {
      "text/plain": [
       "array([[4.16548285],\n",
       "       [3.06136539]])"
      ]
     },
     "execution_count": 19,
     "metadata": {},
     "output_type": "execute_result"
    }
   ],
   "source": [
    "theta"
   ]
  },
  {
   "cell_type": "code",
   "execution_count": 20,
   "metadata": {},
   "outputs": [
    {
     "data": {
      "text/plain": [
       "array([[10.34418391],\n",
       "       [ 5.87872253],\n",
       "       [ 6.33739239],\n",
       "       [ 9.46391859],\n",
       "       [ 8.33107466],\n",
       "       [ 5.8639394 ],\n",
       "       [ 6.00508667],\n",
       "       [ 8.30893857],\n",
       "       [ 4.17884615],\n",
       "       [ 6.14025237],\n",
       "       [ 9.03406122],\n",
       "       [ 5.3467136 ],\n",
       "       [ 7.26567555],\n",
       "       [ 5.78764565],\n",
       "       [ 7.38311828],\n",
       "       [ 5.49725871],\n",
       "       [ 8.15988601],\n",
       "       [ 8.52511662],\n",
       "       [ 6.15433303],\n",
       "       [ 9.98690739],\n",
       "       [ 8.85015454],\n",
       "       [ 5.86792889],\n",
       "       [ 7.8305237 ],\n",
       "       [ 9.10695273],\n",
       "       [ 4.42931256],\n",
       "       [ 7.97250394],\n",
       "       [10.24678075],\n",
       "       [ 5.65359107],\n",
       "       [10.76174664],\n",
       "       [ 7.9497959 ],\n",
       "       [ 5.79204523],\n",
       "       [ 8.8519596 ],\n",
       "       [ 6.37842768],\n",
       "       [ 6.82858391],\n",
       "       [ 9.97542546],\n",
       "       [ 7.90169429],\n",
       "       [ 3.17422181],\n",
       "       [ 3.30685718],\n",
       "       [ 6.87909399],\n",
       "       [ 5.1327494 ],\n",
       "       [ 5.19605706],\n",
       "       [ 8.12231177],\n",
       "       [ 9.60453107],\n",
       "       [ 9.16260962],\n",
       "       [ 6.55382491],\n",
       "       [ 5.62055546],\n",
       "       [ 4.31588448],\n",
       "       [ 4.40515072],\n",
       "       [ 9.72588876],\n",
       "       [ 7.70507087],\n",
       "       [ 6.03771347],\n",
       "       [ 4.30132563],\n",
       "       [ 6.82307861],\n",
       "       [ 7.74802386],\n",
       "       [ 6.25474015],\n",
       "       [10.60329584],\n",
       "       [ 5.97042089],\n",
       "       [ 3.31687245],\n",
       "       [ 7.5369117 ],\n",
       "       [ 7.0023493 ],\n",
       "       [ 7.15282354],\n",
       "       [ 5.82044345],\n",
       "       [ 7.8417652 ],\n",
       "       [10.90297947],\n",
       "       [ 6.23613034],\n",
       "       [ 5.8051436 ],\n",
       "       [ 6.2320541 ],\n",
       "       [ 5.12341526],\n",
       "       [ 6.59924961],\n",
       "       [ 5.95370353],\n",
       "       [ 5.04742847],\n",
       "       [ 6.83365195],\n",
       "       [ 8.34651595],\n",
       "       [ 7.55171371],\n",
       "       [10.44537516],\n",
       "       [ 9.76821781],\n",
       "       [ 7.40729191],\n",
       "       [ 9.04412779],\n",
       "       [ 3.57067525],\n",
       "       [ 8.03974937],\n",
       "       [ 8.97306858],\n",
       "       [ 6.50944265],\n",
       "       [ 5.45291954],\n",
       "       [ 8.60531311],\n",
       "       [ 9.31004806],\n",
       "       [ 4.96585477],\n",
       "       [ 6.31947584],\n",
       "       [ 4.90249352],\n",
       "       [ 7.20467244],\n",
       "       [ 6.61996482],\n",
       "       [11.81856558],\n",
       "       [ 7.66112286],\n",
       "       [10.15062593],\n",
       "       [ 9.35867229],\n",
       "       [ 6.63381572],\n",
       "       [ 7.14318526],\n",
       "       [ 4.44209558],\n",
       "       [ 5.10515968],\n",
       "       [ 4.69721902],\n",
       "       [ 9.04266359]])"
      ]
     },
     "execution_count": 20,
     "metadata": {},
     "output_type": "execute_result"
    }
   ],
   "source": [
    "y"
   ]
  },
  {
   "cell_type": "code",
   "execution_count": 21,
   "metadata": {},
   "outputs": [
    {
     "data": {
      "text/plain": [
       "array([10.34418391,  5.87872253,  6.33739239,  9.46391859,  8.33107466,\n",
       "        5.8639394 ,  6.00508667,  8.30893857,  4.17884615,  6.14025237,\n",
       "        9.03406122,  5.3467136 ,  7.26567555,  5.78764565,  7.38311828,\n",
       "        5.49725871,  8.15988601,  8.52511662,  6.15433303,  9.98690739,\n",
       "        8.85015454,  5.86792889,  7.8305237 ,  9.10695273,  4.42931256,\n",
       "        7.97250394, 10.24678075,  5.65359107, 10.76174664,  7.9497959 ,\n",
       "        5.79204523,  8.8519596 ,  6.37842768,  6.82858391,  9.97542546,\n",
       "        7.90169429,  3.17422181,  3.30685718,  6.87909399,  5.1327494 ,\n",
       "        5.19605706,  8.12231177,  9.60453107,  9.16260962,  6.55382491,\n",
       "        5.62055546,  4.31588448,  4.40515072,  9.72588876,  7.70507087,\n",
       "        6.03771347,  4.30132563,  6.82307861,  7.74802386,  6.25474015,\n",
       "       10.60329584,  5.97042089,  3.31687245,  7.5369117 ,  7.0023493 ,\n",
       "        7.15282354,  5.82044345,  7.8417652 , 10.90297947,  6.23613034,\n",
       "        5.8051436 ,  6.2320541 ,  5.12341526,  6.59924961,  5.95370353,\n",
       "        5.04742847,  6.83365195,  8.34651595,  7.55171371, 10.44537516,\n",
       "        9.76821781,  7.40729191,  9.04412779,  3.57067525,  8.03974937,\n",
       "        8.97306858,  6.50944265,  5.45291954,  8.60531311,  9.31004806,\n",
       "        4.96585477,  6.31947584,  4.90249352,  7.20467244,  6.61996482,\n",
       "       11.81856558,  7.66112286, 10.15062593,  9.35867229,  6.63381572,\n",
       "        7.14318526,  4.44209558,  5.10515968,  4.69721902,  9.04266359])"
      ]
     },
     "execution_count": 21,
     "metadata": {},
     "output_type": "execute_result"
    }
   ],
   "source": [
    "y.ravel()"
   ]
  },
  {
   "cell_type": "code",
   "execution_count": 22,
   "metadata": {},
   "outputs": [],
   "source": [
    "test_array = np.array([1,2,3,4,5])"
   ]
  },
  {
   "cell_type": "code",
   "execution_count": 23,
   "metadata": {},
   "outputs": [
    {
     "data": {
      "text/plain": [
       "(5,)"
      ]
     },
     "execution_count": 23,
     "metadata": {},
     "output_type": "execute_result"
    }
   ],
   "source": [
    "test_array.shape"
   ]
  },
  {
   "cell_type": "code",
   "execution_count": 24,
   "metadata": {},
   "outputs": [
    {
     "name": "stdout",
     "output_type": "stream",
     "text": [
      "[4.15477031] [3.05348632]\n"
     ]
    },
    {
     "name": "stderr",
     "output_type": "stream",
     "text": [
      "F:\\installation\\anaconda\\lib\\site-packages\\sklearn\\linear_model\\stochastic_gradient.py:152: DeprecationWarning: n_iter parameter is deprecated in 0.19 and will be removed in 0.21. Use max_iter and tol instead.\n",
      "  DeprecationWarning)\n",
      "F:\\installation\\anaconda\\lib\\site-packages\\sklearn\\utils\\validation.py:761: DataConversionWarning: A column-vector y was passed when a 1d array was expected. Please change the shape of y to (n_samples, ), for example using ravel().\n",
      "  y = column_or_1d(y, warn=True)\n"
     ]
    }
   ],
   "source": [
    "from sklearn.linear_model import SGDRegressor\n",
    "sgd_reg = SGDRegressor(n_iter=50, penalty=None, eta0=0.1)\n",
    "sgd_reg.fit(X, y)\n",
    "print(sgd_reg.intercept_, sgd_reg.coef_)"
   ]
  },
  {
   "cell_type": "code",
   "execution_count": 25,
   "metadata": {},
   "outputs": [],
   "source": [
    "m = 100\n",
    "X = 6 * np.random.rand(m, 1) - 3\n",
    "y = 0.5 * X**2 + X + 2 + np.random.randn(m, 1)"
   ]
  },
  {
   "cell_type": "code",
   "execution_count": 26,
   "metadata": {},
   "outputs": [
    {
     "name": "stdout",
     "output_type": "stream",
     "text": [
      "[-0.04246577] [-0.04246577  0.00180334]\n"
     ]
    }
   ],
   "source": [
    "from sklearn.preprocessing import PolynomialFeatures\n",
    "\n",
    "poly_features = PolynomialFeatures(degree=2, include_bias=False)\n",
    "X_poly = poly_features.fit_transform(X)\n",
    "print(X[0], X_poly[0])"
   ]
  },
  {
   "cell_type": "code",
   "execution_count": 27,
   "metadata": {},
   "outputs": [
    {
     "name": "stdout",
     "output_type": "stream",
     "text": [
      "[1.84555394] [[1.10075954 0.57323114]]\n"
     ]
    }
   ],
   "source": [
    "lin_reg = LinearRegression()\n",
    "lin_reg.fit(X_poly, y)\n",
    "print(lin_reg.intercept_, lin_reg.coef_)"
   ]
  },
  {
   "cell_type": "code",
   "execution_count": 28,
   "metadata": {},
   "outputs": [
    {
     "data": {
      "text/plain": [
       "array([[-4.24657737e-02,  1.80334194e-03],\n",
       "       [ 1.96561503e+00,  3.86364246e+00],\n",
       "       [ 1.89868163e+00,  3.60499194e+00],\n",
       "       [ 8.72095347e-01,  7.60550294e-01],\n",
       "       [ 1.09830562e+00,  1.20627524e+00],\n",
       "       [-1.33647716e+00,  1.78617120e+00],\n",
       "       [ 2.21764805e+00,  4.91796288e+00],\n",
       "       [-1.26055205e+00,  1.58899147e+00],\n",
       "       [ 6.04987190e-01,  3.66009501e-01],\n",
       "       [-8.09396329e-01,  6.55122417e-01],\n",
       "       [ 1.07149652e+00,  1.14810479e+00],\n",
       "       [-1.64144856e+00,  2.69435337e+00],\n",
       "       [ 2.98792514e-01,  8.92769665e-02],\n",
       "       [ 1.33795272e+00,  1.79011749e+00],\n",
       "       [ 1.67413553e+00,  2.80272979e+00],\n",
       "       [-7.33310093e-01,  5.37743693e-01],\n",
       "       [-2.23666689e+00,  5.00267877e+00],\n",
       "       [ 2.39522203e+00,  5.73708856e+00],\n",
       "       [ 1.24658268e+00,  1.55396837e+00],\n",
       "       [-2.80456209e+00,  7.86556854e+00],\n",
       "       [-4.80538509e-01,  2.30917259e-01],\n",
       "       [ 1.73726977e+00,  3.01810626e+00],\n",
       "       [-2.78667312e+00,  7.76554710e+00],\n",
       "       [ 2.48963618e+00,  6.19828830e+00],\n",
       "       [ 1.13173505e+00,  1.28082423e+00],\n",
       "       [-1.64744764e+00,  2.71408371e+00],\n",
       "       [-1.61936989e+00,  2.62235885e+00],\n",
       "       [-2.32881010e-01,  5.42335646e-02],\n",
       "       [ 2.82463959e+00,  7.97858882e+00],\n",
       "       [-7.92519391e-01,  6.28086985e-01],\n",
       "       [ 5.87725269e-01,  3.45420992e-01],\n",
       "       [ 1.57129520e+00,  2.46896861e+00],\n",
       "       [ 3.61918904e-01,  1.30985293e-01],\n",
       "       [ 1.86749176e+00,  3.48752549e+00],\n",
       "       [ 2.36312877e-01,  5.58437758e-02],\n",
       "       [ 1.51485399e+00,  2.29478262e+00],\n",
       "       [ 5.34632534e-01,  2.85831946e-01],\n",
       "       [-8.48293019e-01,  7.19601046e-01],\n",
       "       [-7.04554357e-01,  4.96396842e-01],\n",
       "       [ 2.74553137e+00,  7.53794249e+00],\n",
       "       [ 2.06763551e+00,  4.27511659e+00],\n",
       "       [ 1.40978446e+00,  1.98749221e+00],\n",
       "       [ 4.65045081e-01,  2.16266927e-01],\n",
       "       [-1.68197031e+00,  2.82902411e+00],\n",
       "       [-1.30461350e+00,  1.70201638e+00],\n",
       "       [ 2.14295770e+00,  4.59226769e+00],\n",
       "       [-5.95796545e-01,  3.54973523e-01],\n",
       "       [-1.87146827e+00,  3.50239348e+00],\n",
       "       [ 2.59942138e+00,  6.75699154e+00],\n",
       "       [ 2.61609368e+00,  6.84394615e+00],\n",
       "       [-1.33248996e+00,  1.77552949e+00],\n",
       "       [-1.18417617e+00,  1.40227319e+00],\n",
       "       [-3.76596548e-01,  1.41824960e-01],\n",
       "       [-1.06010028e+00,  1.12381260e+00],\n",
       "       [-2.97736203e+00,  8.86468468e+00],\n",
       "       [ 5.38068076e-01,  2.89517254e-01],\n",
       "       [ 4.67242731e-02,  2.18315770e-03],\n",
       "       [-6.16482314e-01,  3.80050443e-01],\n",
       "       [-1.19504422e+00,  1.42813070e+00],\n",
       "       [ 1.80325337e-01,  3.25172271e-02],\n",
       "       [-2.12325890e+00,  4.50822834e+00],\n",
       "       [ 2.18437341e+00,  4.77148721e+00],\n",
       "       [ 2.31759463e+00,  5.37124488e+00],\n",
       "       [-6.90904378e-01,  4.77348859e-01],\n",
       "       [ 1.47833932e+00,  2.18548714e+00],\n",
       "       [ 1.13555708e+00,  1.28948988e+00],\n",
       "       [ 5.35906192e-02,  2.87195446e-03],\n",
       "       [ 2.77951261e-01,  7.72569035e-02],\n",
       "       [ 7.68469720e-01,  5.90545711e-01],\n",
       "       [-1.69681568e+00,  2.87918344e+00],\n",
       "       [ 2.32311895e+00,  5.39688164e+00],\n",
       "       [ 2.91721398e+00,  8.51013742e+00],\n",
       "       [ 1.25727391e+00,  1.58073769e+00],\n",
       "       [ 2.96280114e+00,  8.77819060e+00],\n",
       "       [ 1.00755565e-01,  1.01516839e-02],\n",
       "       [ 2.38180925e+00,  5.67301528e+00],\n",
       "       [ 2.39303642e+00,  5.72662331e+00],\n",
       "       [-8.43031561e-02,  7.10702213e-03],\n",
       "       [ 1.52512318e+00,  2.32600073e+00],\n",
       "       [-2.18023048e+00,  4.75340496e+00],\n",
       "       [ 1.41593239e+00,  2.00486454e+00],\n",
       "       [ 9.15983236e-01,  8.39025289e-01],\n",
       "       [-6.27130219e-01,  3.93292312e-01],\n",
       "       [ 1.07187549e+00,  1.14891707e+00],\n",
       "       [-2.94281531e+00,  8.66016197e+00],\n",
       "       [ 4.62189944e-01,  2.13619544e-01],\n",
       "       [ 2.59626612e+00,  6.74059775e+00],\n",
       "       [-1.21151303e+00,  1.46776382e+00],\n",
       "       [-9.47489379e-01,  8.97736124e-01],\n",
       "       [-2.20812707e+00,  4.87582516e+00],\n",
       "       [ 3.87574137e-01,  1.50213712e-01],\n",
       "       [-1.80182213e-01,  3.24656297e-02],\n",
       "       [-4.84806264e-01,  2.35037114e-01],\n",
       "       [ 1.29657476e-01,  1.68110612e-02],\n",
       "       [ 2.45998534e+00,  6.05152785e+00],\n",
       "       [ 1.21805455e+00,  1.48365689e+00],\n",
       "       [-1.43366161e+00,  2.05538561e+00],\n",
       "       [ 2.63335261e+00,  6.93454595e+00],\n",
       "       [ 1.49376792e+00,  2.23134260e+00],\n",
       "       [-9.05841205e-01,  8.20548289e-01]])"
      ]
     },
     "execution_count": 28,
     "metadata": {},
     "output_type": "execute_result"
    }
   ],
   "source": [
    "X_poly"
   ]
  },
  {
   "cell_type": "code",
   "execution_count": null,
   "metadata": {},
   "outputs": [],
   "source": []
  },
  {
   "cell_type": "code",
   "execution_count": null,
   "metadata": {},
   "outputs": [],
   "source": []
  },
  {
   "cell_type": "code",
   "execution_count": 29,
   "metadata": {},
   "outputs": [],
   "source": [
    "y_predict = lin_reg.predict(X_poly)"
   ]
  },
  {
   "cell_type": "code",
   "execution_count": 30,
   "metadata": {},
   "outputs": [
    {
     "data": {
      "text/plain": [
       "[<matplotlib.lines.Line2D at 0x21c67e5cb00>]"
      ]
     },
     "execution_count": 30,
     "metadata": {},
     "output_type": "execute_result"
    },
    {
     "data": {
      "image/png": "[encoded data removed]",
      "text/plain": [
       "<Figure size 432x288 with 1 Axes>"
      ]
     },
     "metadata": {
      "needs_background": "light"
     },
     "output_type": "display_data"
    }
   ],
   "source": [
    "plt.plot(X, y_predict, 'rs')"
   ]
  },
  {
   "cell_type": "markdown",
   "metadata": {},
   "source": [
    "### 学习曲线"
   ]
  },
  {
   "cell_type": "code",
   "execution_count": 31,
   "metadata": {},
   "outputs": [],
   "source": [
    "from sklearn.metrics import mean_squared_error\n",
    "from sklearn.model_selection import train_test_split\n",
    "\n",
    "def plot_learning_curves(model, X, y):\n",
    "    X_train, X_val, y_train, y_val = train_test_split(X, y, test_size=0.2)\n",
    "    train_errors, val_errors = [], []\n",
    "    for m in range(1, len(X_train)):\n",
    "        model.fit(X_train[:m], y_train[:m])\n",
    "        y_train_predict = model.predict(X_train[:m])\n",
    "        y_val_predict = model.predict(X_val)\n",
    "        train_errors.append(mean_squared_error(y_train_predict, y_train[:m]))\n",
    "        val_errors.append(mean_squared_error(y_val_predict, y_val))\n",
    "        plt.plot(np.sqrt(train_errors), 'r-+')\n",
    "        plt.plot(np.sqrt(val_errors), 'b-')\n",
    "        plt.legend(['train', 'val'])"
   ]
  },
  {
   "cell_type": "code",
   "execution_count": 32,
   "metadata": {},
   "outputs": [
    {
     "data": {
      "image/png": "[encoded data removed]",
      "text/plain": [
       "<Figure size 432x288 with 1 Axes>"
      ]
     },
     "metadata": {
      "needs_background": "light"
     },
     "output_type": "display_data"
    }
   ],
   "source": [
    "lin_reg = LinearRegression()\n",
    "plot_learning_curves(lin_reg, X, y)"
   ]
  },
  {
   "cell_type": "code",
   "execution_count": 33,
   "metadata": {},
   "outputs": [],
   "source": [
    "from sklearn.pipeline import Pipeline\n",
    "polynomial_regression = Pipeline((\n",
    "    ('poly_features', PolynomialFeatures(degree=10, include_bias=False)),\n",
    "    ('sgd_reg', LinearRegression()), \n",
    "))"
   ]
  },
  {
   "cell_type": "code",
   "execution_count": 34,
   "metadata": {},
   "outputs": [
    {
     "data": {
      "text/plain": [
       "[0, 80, 0, 3]"
      ]
     },
     "execution_count": 34,
     "metadata": {},
     "output_type": "execute_result"
    },
    {
     "data": {
      "image/png": "[encoded data removed]",
      "text/plain": [
       "<Figure size 432x288 with 1 Axes>"
      ]
     },
     "metadata": {
      "needs_background": "light"
     },
     "output_type": "display_data"
    }
   ],
   "source": [
    "plot_learning_curves(polynomial_regression, X, y)\n",
    "plt.axis([0, 80, 0, 3])"
   ]
  },
  {
   "cell_type": "markdown",
   "metadata": {},
   "source": [
    "### 岭回归"
   ]
  },
  {
   "cell_type": "code",
   "execution_count": 35,
   "metadata": {},
   "outputs": [
    {
     "name": "stdout",
     "output_type": "stream",
     "text": [
      "[[5.23593408]]\n"
     ]
    }
   ],
   "source": [
    "from sklearn.linear_model import Ridge\n",
    "ridge_reg = Ridge(alpha=1, solver='cholesky')\n",
    "ridge_reg.fit(X, y)\n",
    "print(ridge_reg.predict([[1.5]]))"
   ]
  },
  {
   "cell_type": "code",
   "execution_count": 36,
   "metadata": {},
   "outputs": [
    {
     "name": "stdout",
     "output_type": "stream",
     "text": [
      "[4.62779899]\n"
     ]
    },
    {
     "name": "stderr",
     "output_type": "stream",
     "text": [
      "F:\\installation\\anaconda\\lib\\site-packages\\sklearn\\linear_model\\stochastic_gradient.py:166: FutureWarning: max_iter and tol parameters have been added in SGDRegressor in 0.19. If both are left unset, they default to max_iter=5 and tol=None. If tol is not None, max_iter defaults to max_iter=1000. From 0.21, default max_iter will be 1000, and default tol will be 1e-3.\n",
      "  FutureWarning)\n"
     ]
    }
   ],
   "source": [
    "sgd_reg = SGDRegressor(penalty='l2')\n",
    "sgd_reg.fit(X, y.ravel())\n",
    "print(sgd_reg.predict([[1.5]]))"
   ]
  },
  {
   "cell_type": "markdown",
   "metadata": {},
   "source": [
    "### lasso回归"
   ]
  },
  {
   "cell_type": "code",
   "execution_count": 37,
   "metadata": {},
   "outputs": [
    {
     "name": "stdout",
     "output_type": "stream",
     "text": [
      "[5.19506867]\n"
     ]
    }
   ],
   "source": [
    "from sklearn.linear_model import Lasso\n",
    "lasso_reg = Lasso(alpha=0.1)\n",
    "lasso_reg.fit(X, y)\n",
    "print(lasso_reg.predict([[1.5]]))"
   ]
  },
  {
   "cell_type": "markdown",
   "metadata": {},
   "source": [
    "### 弹性网络"
   ]
  },
  {
   "cell_type": "code",
   "execution_count": 38,
   "metadata": {},
   "outputs": [
    {
     "name": "stdout",
     "output_type": "stream",
     "text": [
      "[5.18851318]\n"
     ]
    }
   ],
   "source": [
    "from sklearn.linear_model import ElasticNet\n",
    "elastic_net = ElasticNet(alpha=0.1 , l1_ratio=0.5)\n",
    "elastic_net.fit(X, y)\n",
    "print(elastic_net.predict([[1.5]]))"
   ]
  },
  {
   "cell_type": "markdown",
   "metadata": {},
   "source": [
    "### 早期停止法"
   ]
  },
  {
   "cell_type": "code",
   "execution_count": 51,
   "metadata": {},
   "outputs": [],
   "source": [
    "from sklearn.base import clone\n",
    "from sklearn.preprocessing import StandardScaler\n",
    "\n",
    "sgd_reg = SGDRegressor(max_iter=1000, tol=0.001, warm_start=True, penalty=None, learning_rate='constant', eta0=0.0005)\n",
    "minimum_val_error = float('inf')\n",
    "best_epoch = None\n",
    "best_model = None\n",
    "poly_stand = Pipeline([\n",
    "    ('polynomial', PolynomialFeatures(degree=90, include_bias=False)),\n",
    "    ('standerscale', StandardScaler()),\n",
    "])\n",
    "X_train, X_val, y_train, y_val = train_test_split(X, y.ravel(), test_size=0.2)\n",
    "X_train_poly_scaled = poly_stand.fit_transform(X_train)\n",
    "X_val_poly_scaled = poly_stand.fit_transform(X_val)\n",
    "for epoch in range(1000):\n",
    "    sgd_reg.fit(X_train_poly_scaled, y_train)\n",
    "    y_val_predict = sgd_reg.predict(X_val_poly_scaled)\n",
    "    val_error = mean_squared_error(y_val_predict, y_val)\n",
    "    if val_error < minimum_val_error:\n",
    "        minimum_val_error = val_error\n",
    "        best_epoch = epoch\n",
    "        best_model = clone(sgd_reg)"
   ]
  },
  {
   "cell_type": "markdown",
   "metadata": {},
   "source": [
    "### 逻辑回归"
   ]
  },
  {
   "cell_type": "code",
   "execution_count": null,
   "metadata": {},
   "outputs": [],
   "source": []
  },
  {
   "cell_type": "code",
   "execution_count": null,
   "metadata": {},
   "outputs": [],
   "source": []
  },
  {
   "cell_type": "code",
   "execution_count": null,
   "metadata": {},
   "outputs": [],
   "source": []
  },
  {
   "cell_type": "code",
   "execution_count": null,
   "metadata": {},
   "outputs": [],
   "source": []
  },
  {
   "cell_type": "code",
   "execution_count": null,
   "metadata": {},
   "outputs": [],
   "source": []
  },
  {
   "cell_type": "code",
   "execution_count": null,
   "metadata": {},
   "outputs": [],
   "source": []
  },
  {
   "cell_type": "code",
   "execution_count": null,
   "metadata": {},
   "outputs": [],
   "source": []
  },
  {
   "cell_type": "code",
   "execution_count": null,
   "metadata": {},
   "outputs": [],
   "source": []
  },
  {
   "cell_type": "code",
   "execution_count": null,
   "metadata": {},
   "outputs": [],
   "source": []
  },
  {
   "cell_type": "code",
   "execution_count": null,
   "metadata": {},
   "outputs": [],
   "source": []
  },
  {
   "cell_type": "code",
   "execution_count": null,
   "metadata": {},
   "outputs": [],
   "source": []
  },
  {
   "cell_type": "code",
   "execution_count": null,
   "metadata": {},
   "outputs": [],
   "source": []
  },
  {
   "cell_type": "code",
   "execution_count": null,
   "metadata": {},
   "outputs": [],
   "source": []
  }
 ],
 "metadata": {
  "kernelspec": {
   "display_name": "Python 3",
   "language": "python",
   "name": "python3"
  },
  "language_info": {
   "codemirror_mode": {
    "name": "ipython",
    "version": 3
   },
   "file_extension": ".py",
   "mimetype": "text/x-python",
   "name": "python",
   "nbconvert_exporter": "python",
   "pygments_lexer": "ipython3",
   "version": "3.7.1"
  }
 },
 "nbformat": 4,
 "nbformat_minor": 2
}
