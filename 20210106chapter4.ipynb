{
 "cells": [
  {
   "cell_type": "code",
   "execution_count": 1,
   "metadata": {},
   "outputs": [],
   "source": [
    "import numpy as np\n",
    "\n",
    "X = 2 * np.random.rand(100, 1)\n",
    "y = 4 + 3 * X + np.random.randn(100, 1)"
   ]
  },
  {
   "cell_type": "code",
   "execution_count": 2,
   "metadata": {
    "scrolled": true
   },
   "outputs": [
    {
     "data": {
      "text/plain": [
       "array([[0.45938048],\n",
       "       [1.70436368],\n",
       "       [1.33704278],\n",
       "       [0.26375905],\n",
       "       [0.21996257],\n",
       "       [0.86180627],\n",
       "       [0.98124895],\n",
       "       [0.65274972],\n",
       "       [1.95485379],\n",
       "       [0.12298248],\n",
       "       [1.38827458],\n",
       "       [1.19179742],\n",
       "       [0.20063179],\n",
       "       [1.12825616],\n",
       "       [1.98564101],\n",
       "       [0.35067838],\n",
       "       [0.47129827],\n",
       "       [1.02750628],\n",
       "       [1.69027651],\n",
       "       [1.00687855],\n",
       "       [0.68257667],\n",
       "       [1.07196894],\n",
       "       [0.71274313],\n",
       "       [0.99482636],\n",
       "       [1.01711501],\n",
       "       [1.12065413],\n",
       "       [1.68825273],\n",
       "       [1.93935788],\n",
       "       [0.05232252],\n",
       "       [1.6783607 ],\n",
       "       [1.58857887],\n",
       "       [1.67100219],\n",
       "       [0.63550531],\n",
       "       [0.14327387],\n",
       "       [1.64416435],\n",
       "       [1.14666208],\n",
       "       [0.12280225],\n",
       "       [0.26545971],\n",
       "       [0.12750652],\n",
       "       [1.06982966],\n",
       "       [0.43080156],\n",
       "       [1.50604644],\n",
       "       [1.77143002],\n",
       "       [0.7393398 ],\n",
       "       [0.13233324],\n",
       "       [0.80047057],\n",
       "       [1.1194655 ],\n",
       "       [1.26885455],\n",
       "       [0.24150453],\n",
       "       [1.73920014],\n",
       "       [0.9811389 ],\n",
       "       [0.75128353],\n",
       "       [1.28016405],\n",
       "       [0.53638673],\n",
       "       [0.578131  ],\n",
       "       [0.16326064],\n",
       "       [0.09970348],\n",
       "       [0.65804231],\n",
       "       [0.86266797],\n",
       "       [0.11381538],\n",
       "       [0.35108768],\n",
       "       [1.24999596],\n",
       "       [1.37103235],\n",
       "       [1.12715562],\n",
       "       [0.66160051],\n",
       "       [0.86403425],\n",
       "       [1.58314996],\n",
       "       [0.16089957],\n",
       "       [1.90320745],\n",
       "       [1.42748595],\n",
       "       [1.47082188],\n",
       "       [1.43369202],\n",
       "       [1.03354973],\n",
       "       [1.32684995],\n",
       "       [1.02494282],\n",
       "       [0.88550629],\n",
       "       [0.33106319],\n",
       "       [1.38119683],\n",
       "       [0.52505005],\n",
       "       [0.48218252],\n",
       "       [0.08382999],\n",
       "       [1.7939683 ],\n",
       "       [0.50517329],\n",
       "       [0.65670967],\n",
       "       [0.28027631],\n",
       "       [1.99426146],\n",
       "       [1.89388201],\n",
       "       [0.44071776],\n",
       "       [1.33713052],\n",
       "       [0.33367457],\n",
       "       [0.12985497],\n",
       "       [1.4085284 ],\n",
       "       [0.40637993],\n",
       "       [0.35810282],\n",
       "       [0.89028694],\n",
       "       [1.85001204],\n",
       "       [1.0786696 ],\n",
       "       [1.89282833],\n",
       "       [1.26858702],\n",
       "       [0.19493581]])"
      ]
     },
     "execution_count": 2,
     "metadata": {},
     "output_type": "execute_result"
    }
   ],
   "source": [
    "X"
   ]
  },
  {
   "cell_type": "code",
   "execution_count": 3,
   "metadata": {
    "scrolled": true
   },
   "outputs": [
    {
     "data": {
      "text/plain": [
       "array([[ 4.34231842],\n",
       "       [ 9.60847639],\n",
       "       [ 8.26083944],\n",
       "       [ 4.9086171 ],\n",
       "       [ 4.48903612],\n",
       "       [ 7.33712779],\n",
       "       [ 6.95203563],\n",
       "       [ 5.52893217],\n",
       "       [ 8.92037473],\n",
       "       [ 3.82657048],\n",
       "       [ 7.48879515],\n",
       "       [ 6.6015424 ],\n",
       "       [ 5.40857371],\n",
       "       [ 6.41755209],\n",
       "       [ 7.55508775],\n",
       "       [ 5.55275343],\n",
       "       [ 6.29835106],\n",
       "       [10.39661612],\n",
       "       [10.40272469],\n",
       "       [ 7.86494565],\n",
       "       [ 5.79453069],\n",
       "       [ 6.45011247],\n",
       "       [ 7.80505827],\n",
       "       [ 8.60907934],\n",
       "       [ 6.95663842],\n",
       "       [ 8.03246884],\n",
       "       [ 9.6232334 ],\n",
       "       [ 9.11821975],\n",
       "       [ 3.47143496],\n",
       "       [ 8.8182002 ],\n",
       "       [ 8.93072453],\n",
       "       [ 8.54654568],\n",
       "       [ 6.17339528],\n",
       "       [ 4.15255782],\n",
       "       [ 8.29467397],\n",
       "       [ 8.13752078],\n",
       "       [ 3.64349558],\n",
       "       [ 6.01937006],\n",
       "       [ 4.62249572],\n",
       "       [ 7.59789143],\n",
       "       [ 4.25623945],\n",
       "       [ 9.6987695 ],\n",
       "       [10.07730143],\n",
       "       [ 5.18513695],\n",
       "       [ 3.11354679],\n",
       "       [ 8.20663272],\n",
       "       [ 8.02854991],\n",
       "       [ 5.72164081],\n",
       "       [ 5.16444331],\n",
       "       [ 9.57390224],\n",
       "       [ 6.34809015],\n",
       "       [ 5.62429525],\n",
       "       [10.31654239],\n",
       "       [ 4.94201536],\n",
       "       [ 4.57073292],\n",
       "       [ 4.73092245],\n",
       "       [ 4.31320323],\n",
       "       [ 6.08404363],\n",
       "       [ 4.35724911],\n",
       "       [ 3.98007156],\n",
       "       [ 3.71553446],\n",
       "       [ 7.1585352 ],\n",
       "       [ 7.4601729 ],\n",
       "       [ 9.01647319],\n",
       "       [ 7.72019601],\n",
       "       [ 7.20526089],\n",
       "       [10.06802898],\n",
       "       [ 4.33797991],\n",
       "       [11.07726315],\n",
       "       [ 7.20722004],\n",
       "       [ 9.05746093],\n",
       "       [ 9.46920521],\n",
       "       [ 8.98321795],\n",
       "       [ 6.85709338],\n",
       "       [ 7.0313219 ],\n",
       "       [ 4.59923125],\n",
       "       [ 4.31319823],\n",
       "       [ 8.4458009 ],\n",
       "       [ 6.17469529],\n",
       "       [ 6.57657911],\n",
       "       [ 4.58331085],\n",
       "       [10.29298133],\n",
       "       [ 5.78376803],\n",
       "       [ 6.53684595],\n",
       "       [ 3.7107644 ],\n",
       "       [ 9.65746505],\n",
       "       [ 9.66082838],\n",
       "       [ 7.08682729],\n",
       "       [ 8.29640755],\n",
       "       [ 3.58044911],\n",
       "       [ 5.94453313],\n",
       "       [ 7.07618235],\n",
       "       [ 3.64805302],\n",
       "       [ 5.69139366],\n",
       "       [ 7.873401  ],\n",
       "       [ 9.73738867],\n",
       "       [ 8.3875858 ],\n",
       "       [ 8.43013336],\n",
       "       [ 7.20861424],\n",
       "       [ 4.14463521]])"
      ]
     },
     "execution_count": 3,
     "metadata": {},
     "output_type": "execute_result"
    }
   ],
   "source": [
    "y"
   ]
  },
  {
   "cell_type": "code",
   "execution_count": 4,
   "metadata": {},
   "outputs": [],
   "source": [
    "X_b = np.c_[np.ones((100, 1)), X]\n",
    "theta_best = np.linalg.inv(X_b.T.dot(X_b)).dot(X_b.T).dot(y)"
   ]
  },
  {
   "cell_type": "code",
   "execution_count": 5,
   "metadata": {},
   "outputs": [
    {
     "data": {
      "text/plain": [
       "array([[4.01734488],\n",
       "       [3.05032866]])"
      ]
     },
     "execution_count": 5,
     "metadata": {},
     "output_type": "execute_result"
    }
   ],
   "source": [
    "theta_best"
   ]
  },
  {
   "cell_type": "code",
   "execution_count": 6,
   "metadata": {},
   "outputs": [],
   "source": [
    "X_new = np.array([[0], [2]])"
   ]
  },
  {
   "cell_type": "code",
   "execution_count": 7,
   "metadata": {},
   "outputs": [
    {
     "data": {
      "text/plain": [
       "array([[0],\n",
       "       [2]])"
      ]
     },
     "execution_count": 7,
     "metadata": {},
     "output_type": "execute_result"
    }
   ],
   "source": [
    "X_new"
   ]
  },
  {
   "cell_type": "code",
   "execution_count": 8,
   "metadata": {},
   "outputs": [],
   "source": [
    "X_new_b = np.c_[np.ones((2, 1)), X_new]"
   ]
  },
  {
   "cell_type": "code",
   "execution_count": 9,
   "metadata": {},
   "outputs": [
    {
     "data": {
      "text/plain": [
       "array([[1., 0.],\n",
       "       [1., 2.]])"
      ]
     },
     "execution_count": 9,
     "metadata": {},
     "output_type": "execute_result"
    }
   ],
   "source": [
    "X_new_b"
   ]
  },
  {
   "cell_type": "code",
   "execution_count": 15,
   "metadata": {},
   "outputs": [],
   "source": [
    "y_predict = X_new_b.dot(theta_best)"
   ]
  },
  {
   "cell_type": "code",
   "execution_count": 16,
   "metadata": {},
   "outputs": [
    {
     "data": {
      "text/plain": [
       "array([[ 4.01734488],\n",
       "       [10.11800219]])"
      ]
     },
     "execution_count": 16,
     "metadata": {},
     "output_type": "execute_result"
    }
   ],
   "source": [
    "y_predict"
   ]
  },
  {
   "cell_type": "code",
   "execution_count": 19,
   "metadata": {},
   "outputs": [
    {
     "data": {
      "image/png": "[encoded data removed]",
      "text/plain": [
       "<Figure size 432x288 with 1 Axes>"
      ]
     },
     "metadata": {
      "needs_background": "light"
     },
     "output_type": "display_data"
    }
   ],
   "source": [
    "import matplotlib.pylab as plt\n",
    "%matplotlib inline\n",
    "\n",
    "plt.plot(X_new, y_predict, 'r-')\n",
    "plt.plot(X, y, 'b.')\n",
    "plt.axis([0, 2, 0, 15])\n",
    "plt.show()"
   ]
  },
  {
   "cell_type": "code",
   "execution_count": 21,
   "metadata": {},
   "outputs": [
    {
     "name": "stdout",
     "output_type": "stream",
     "text": [
      "[4.01734488] [[3.05032866]]\n",
      "[[ 4.01734488]\n",
      " [10.11800219]]\n"
     ]
    }
   ],
   "source": [
    "from sklearn.linear_model import LinearRegression\n",
    "lin_reg = LinearRegression()\n",
    "lin_reg.fit(X, y)\n",
    "print(lin_reg.intercept_, lin_reg.coef_)\n",
    "print(lin_reg.predict([[0],[2]]))"
   ]
  },
  {
   "cell_type": "markdown",
   "metadata": {},
   "source": [
    "### 批量梯度下降"
   ]
  },
  {
   "cell_type": "code",
   "execution_count": 22,
   "metadata": {},
   "outputs": [],
   "source": [
    "eta = 0.1\n",
    "n_iterations = 10000\n",
    "m = 100\n",
    "theta = np.random.randn(2, 1)"
   ]
  },
  {
   "cell_type": "code",
   "execution_count": 23,
   "metadata": {},
   "outputs": [
    {
     "data": {
      "text/plain": [
       "array([[-0.64172682],\n",
       "       [ 0.30064005]])"
      ]
     },
     "execution_count": 23,
     "metadata": {},
     "output_type": "execute_result"
    }
   ],
   "source": [
    "theta"
   ]
  },
  {
   "cell_type": "code",
   "execution_count": 27,
   "metadata": {},
   "outputs": [
    {
     "name": "stdout",
     "output_type": "stream",
     "text": [
      "[[4.01734488]\n",
      " [3.05032866]]\n",
      "[[4.01734488]\n",
      " [3.05032866]]\n"
     ]
    }
   ],
   "source": [
    "for iteration in range(n_iterations):\n",
    "    gradients = 2/m * X_b.T.dot(X_b.dot(theta) -  y)\n",
    "    theta = theta - eta * gradients\n",
    "    if iteration == 20:\n",
    "        print(theta)\n",
    "    if iteration == 41:\n",
    "        print(theta)"
   ]
  },
  {
   "cell_type": "code",
   "execution_count": 25,
   "metadata": {},
   "outputs": [
    {
     "data": {
      "text/plain": [
       "array([[4.01734488],\n",
       "       [3.05032866]])"
      ]
     },
     "execution_count": 25,
     "metadata": {},
     "output_type": "execute_result"
    }
   ],
   "source": [
    "theta"
   ]
  },
  {
   "cell_type": "code",
   "execution_count": 29,
   "metadata": {},
   "outputs": [],
   "source": [
    "n_epochs = 50\n",
    "t0, t1 = 5, 50\n",
    "def learning_schedule(t):\n",
    "    return t0 / (t + t1)\n",
    "theta = np.random.randn(2, 1)\n",
    "\n",
    "for epoch in range(n_epochs):\n",
    "    for i in range(m):\n",
    "        random_index = np.random.randint(m)\n",
    "        xi = X_b[random_index: random_index + 1]\n",
    "        yi = y[random_index: random_index + 1]\n",
    "        gradients = 2 * xi.T.dot(xi.dot(theta) - yi)\n",
    "        eta = learning_schedule(epoch * m + i)\n",
    "        theta = theta - eta * gradients"
   ]
  },
  {
   "cell_type": "code",
   "execution_count": 30,
   "metadata": {},
   "outputs": [
    {
     "data": {
      "text/plain": [
       "array([[4.05341025],\n",
       "       [3.05083515]])"
      ]
     },
     "execution_count": 30,
     "metadata": {},
     "output_type": "execute_result"
    }
   ],
   "source": [
    "theta"
   ]
  },
  {
   "cell_type": "code",
   "execution_count": 45,
   "metadata": {},
   "outputs": [
    {
     "data": {
      "text/plain": [
       "array([[ 4.34231842],\n",
       "       [ 9.60847639],\n",
       "       [ 8.26083944],\n",
       "       [ 4.9086171 ],\n",
       "       [ 4.48903612],\n",
       "       [ 7.33712779],\n",
       "       [ 6.95203563],\n",
       "       [ 5.52893217],\n",
       "       [ 8.92037473],\n",
       "       [ 3.82657048],\n",
       "       [ 7.48879515],\n",
       "       [ 6.6015424 ],\n",
       "       [ 5.40857371],\n",
       "       [ 6.41755209],\n",
       "       [ 7.55508775],\n",
       "       [ 5.55275343],\n",
       "       [ 6.29835106],\n",
       "       [10.39661612],\n",
       "       [10.40272469],\n",
       "       [ 7.86494565],\n",
       "       [ 5.79453069],\n",
       "       [ 6.45011247],\n",
       "       [ 7.80505827],\n",
       "       [ 8.60907934],\n",
       "       [ 6.95663842],\n",
       "       [ 8.03246884],\n",
       "       [ 9.6232334 ],\n",
       "       [ 9.11821975],\n",
       "       [ 3.47143496],\n",
       "       [ 8.8182002 ],\n",
       "       [ 8.93072453],\n",
       "       [ 8.54654568],\n",
       "       [ 6.17339528],\n",
       "       [ 4.15255782],\n",
       "       [ 8.29467397],\n",
       "       [ 8.13752078],\n",
       "       [ 3.64349558],\n",
       "       [ 6.01937006],\n",
       "       [ 4.62249572],\n",
       "       [ 7.59789143],\n",
       "       [ 4.25623945],\n",
       "       [ 9.6987695 ],\n",
       "       [10.07730143],\n",
       "       [ 5.18513695],\n",
       "       [ 3.11354679],\n",
       "       [ 8.20663272],\n",
       "       [ 8.02854991],\n",
       "       [ 5.72164081],\n",
       "       [ 5.16444331],\n",
       "       [ 9.57390224],\n",
       "       [ 6.34809015],\n",
       "       [ 5.62429525],\n",
       "       [10.31654239],\n",
       "       [ 4.94201536],\n",
       "       [ 4.57073292],\n",
       "       [ 4.73092245],\n",
       "       [ 4.31320323],\n",
       "       [ 6.08404363],\n",
       "       [ 4.35724911],\n",
       "       [ 3.98007156],\n",
       "       [ 3.71553446],\n",
       "       [ 7.1585352 ],\n",
       "       [ 7.4601729 ],\n",
       "       [ 9.01647319],\n",
       "       [ 7.72019601],\n",
       "       [ 7.20526089],\n",
       "       [10.06802898],\n",
       "       [ 4.33797991],\n",
       "       [11.07726315],\n",
       "       [ 7.20722004],\n",
       "       [ 9.05746093],\n",
       "       [ 9.46920521],\n",
       "       [ 8.98321795],\n",
       "       [ 6.85709338],\n",
       "       [ 7.0313219 ],\n",
       "       [ 4.59923125],\n",
       "       [ 4.31319823],\n",
       "       [ 8.4458009 ],\n",
       "       [ 6.17469529],\n",
       "       [ 6.57657911],\n",
       "       [ 4.58331085],\n",
       "       [10.29298133],\n",
       "       [ 5.78376803],\n",
       "       [ 6.53684595],\n",
       "       [ 3.7107644 ],\n",
       "       [ 9.65746505],\n",
       "       [ 9.66082838],\n",
       "       [ 7.08682729],\n",
       "       [ 8.29640755],\n",
       "       [ 3.58044911],\n",
       "       [ 5.94453313],\n",
       "       [ 7.07618235],\n",
       "       [ 3.64805302],\n",
       "       [ 5.69139366],\n",
       "       [ 7.873401  ],\n",
       "       [ 9.73738867],\n",
       "       [ 8.3875858 ],\n",
       "       [ 8.43013336],\n",
       "       [ 7.20861424],\n",
       "       [ 4.14463521]])"
      ]
     },
     "execution_count": 45,
     "metadata": {},
     "output_type": "execute_result"
    }
   ],
   "source": [
    "y"
   ]
  },
  {
   "cell_type": "code",
   "execution_count": 44,
   "metadata": {},
   "outputs": [
    {
     "data": {
      "text/plain": [
       "array([ 4.34231842,  9.60847639,  8.26083944,  4.9086171 ,  4.48903612,\n",
       "        7.33712779,  6.95203563,  5.52893217,  8.92037473,  3.82657048,\n",
       "        7.48879515,  6.6015424 ,  5.40857371,  6.41755209,  7.55508775,\n",
       "        5.55275343,  6.29835106, 10.39661612, 10.40272469,  7.86494565,\n",
       "        5.79453069,  6.45011247,  7.80505827,  8.60907934,  6.95663842,\n",
       "        8.03246884,  9.6232334 ,  9.11821975,  3.47143496,  8.8182002 ,\n",
       "        8.93072453,  8.54654568,  6.17339528,  4.15255782,  8.29467397,\n",
       "        8.13752078,  3.64349558,  6.01937006,  4.62249572,  7.59789143,\n",
       "        4.25623945,  9.6987695 , 10.07730143,  5.18513695,  3.11354679,\n",
       "        8.20663272,  8.02854991,  5.72164081,  5.16444331,  9.57390224,\n",
       "        6.34809015,  5.62429525, 10.31654239,  4.94201536,  4.57073292,\n",
       "        4.73092245,  4.31320323,  6.08404363,  4.35724911,  3.98007156,\n",
       "        3.71553446,  7.1585352 ,  7.4601729 ,  9.01647319,  7.72019601,\n",
       "        7.20526089, 10.06802898,  4.33797991, 11.07726315,  7.20722004,\n",
       "        9.05746093,  9.46920521,  8.98321795,  6.85709338,  7.0313219 ,\n",
       "        4.59923125,  4.31319823,  8.4458009 ,  6.17469529,  6.57657911,\n",
       "        4.58331085, 10.29298133,  5.78376803,  6.53684595,  3.7107644 ,\n",
       "        9.65746505,  9.66082838,  7.08682729,  8.29640755,  3.58044911,\n",
       "        5.94453313,  7.07618235,  3.64805302,  5.69139366,  7.873401  ,\n",
       "        9.73738867,  8.3875858 ,  8.43013336,  7.20861424,  4.14463521])"
      ]
     },
     "execution_count": 44,
     "metadata": {},
     "output_type": "execute_result"
    }
   ],
   "source": [
    "y.ravel()"
   ]
  },
  {
   "cell_type": "code",
   "execution_count": 42,
   "metadata": {},
   "outputs": [],
   "source": [
    "test_array = np.array([1,2,3,4,5])"
   ]
  },
  {
   "cell_type": "code",
   "execution_count": 43,
   "metadata": {},
   "outputs": [
    {
     "data": {
      "text/plain": [
       "(5,)"
      ]
     },
     "execution_count": 43,
     "metadata": {},
     "output_type": "execute_result"
    }
   ],
   "source": [
    "test_array.shape"
   ]
  },
  {
   "cell_type": "code",
   "execution_count": 36,
   "metadata": {},
   "outputs": [
    {
     "name": "stdout",
     "output_type": "stream",
     "text": [
      "[4.0633474] [3.10662055]\n"
     ]
    },
    {
     "name": "stderr",
     "output_type": "stream",
     "text": [
      "F:\\installation\\anaconda\\lib\\site-packages\\sklearn\\utils\\validation.py:761: DataConversionWarning: A column-vector y was passed when a 1d array was expected. Please change the shape of y to (n_samples, ), for example using ravel().\n",
      "  y = column_or_1d(y, warn=True)\n"
     ]
    }
   ],
   "source": [
    "from sklearn.linear_model import SGDRegressor\n",
    "sgd_reg = SGDRegressor(n_iter=50, penalty=None, eta0=0.1)\n",
    "sgd_reg.fit(X, y)\n",
    "print(sgd_reg.intercept_, sgd_reg.coef_)"
   ]
  },
  {
   "cell_type": "code",
   "execution_count": 46,
   "metadata": {},
   "outputs": [],
   "source": [
    "m = 100\n",
    "X = 6 * np.random.randn(m, 1) - 3\n",
    "y = 0.8 * X**2 + X + 2 + np.random.randn(m, 1)"
   ]
  },
  {
   "cell_type": "code",
   "execution_count": 48,
   "metadata": {},
   "outputs": [
    {
     "name": "stdout",
     "output_type": "stream",
     "text": [
      "[-4.60424417] [-4.60424417 21.19906435]\n"
     ]
    }
   ],
   "source": [
    "from sklearn.preprocessing import PolynomialFeatures\n",
    "\n",
    "poly_features = PolynomialFeatures(degree=2, include_bias=False)\n",
    "X_poly = poly_features.fit_transform(X)\n",
    "print(X[0], X_poly[0])"
   ]
  },
  {
   "cell_type": "code",
   "execution_count": 49,
   "metadata": {},
   "outputs": [
    {
     "name": "stdout",
     "output_type": "stream",
     "text": [
      "[2.02937209] [[0.99066013 0.79679173]]\n"
     ]
    }
   ],
   "source": [
    "lin_reg = LinearRegression()\n",
    "lin_reg.fit(X_poly, y)\n",
    "print(lin_reg.intercept_, lin_reg.coef_)"
   ]
  },
  {
   "cell_type": "code",
   "execution_count": 53,
   "metadata": {},
   "outputs": [],
   "source": [
    "y_predict = lin_reg.predict(X_poly)"
   ]
  },
  {
   "cell_type": "code",
   "execution_count": 56,
   "metadata": {},
   "outputs": [
    {
     "data": {
      "text/plain": [
       "[<matplotlib.lines.Line2D at 0x2642d29eb00>]"
      ]
     },
     "execution_count": 56,
     "metadata": {},
     "output_type": "execute_result"
    },
    {
     "data": {
      "image/png": "[encoded data removed]",
      "text/plain": [
       "<Figure size 432x288 with 1 Axes>"
      ]
     },
     "metadata": {
      "needs_background": "light"
     },
     "output_type": "display_data"
    }
   ],
   "source": [
    "plt.plot(X, y_predict, 'r.')"
   ]
  },
  {
   "cell_type": "code",
   "execution_count": null,
   "metadata": {},
   "outputs": [],
   "source": []
  },
  {
   "cell_type": "code",
   "execution_count": null,
   "metadata": {},
   "outputs": [],
   "source": []
  },
  {
   "cell_type": "code",
   "execution_count": null,
   "metadata": {},
   "outputs": [],
   "source": []
  },
  {
   "cell_type": "code",
   "execution_count": null,
   "metadata": {},
   "outputs": [],
   "source": []
  },
  {
   "cell_type": "code",
   "execution_count": null,
   "metadata": {},
   "outputs": [],
   "source": []
  },
  {
   "cell_type": "code",
   "execution_count": null,
   "metadata": {},
   "outputs": [],
   "source": []
  },
  {
   "cell_type": "code",
   "execution_count": null,
   "metadata": {},
   "outputs": [],
   "source": []
  },
  {
   "cell_type": "code",
   "execution_count": null,
   "metadata": {},
   "outputs": [],
   "source": []
  },
  {
   "cell_type": "code",
   "execution_count": null,
   "metadata": {},
   "outputs": [],
   "source": []
  },
  {
   "cell_type": "code",
   "execution_count": null,
   "metadata": {},
   "outputs": [],
   "source": []
  },
  {
   "cell_type": "code",
   "execution_count": null,
   "metadata": {},
   "outputs": [],
   "source": []
  },
  {
   "cell_type": "code",
   "execution_count": null,
   "metadata": {},
   "outputs": [],
   "source": []
  },
  {
   "cell_type": "code",
   "execution_count": null,
   "metadata": {},
   "outputs": [],
   "source": []
  },
  {
   "cell_type": "code",
   "execution_count": null,
   "metadata": {},
   "outputs": [],
   "source": []
  },
  {
   "cell_type": "code",
   "execution_count": null,
   "metadata": {},
   "outputs": [],
   "source": []
  },
  {
   "cell_type": "code",
   "execution_count": null,
   "metadata": {},
   "outputs": [],
   "source": []
  },
  {
   "cell_type": "code",
   "execution_count": null,
   "metadata": {},
   "outputs": [],
   "source": []
  },
  {
   "cell_type": "code",
   "execution_count": null,
   "metadata": {},
   "outputs": [],
   "source": []
  },
  {
   "cell_type": "code",
   "execution_count": null,
   "metadata": {},
   "outputs": [],
   "source": []
  },
  {
   "cell_type": "code",
   "execution_count": null,
   "metadata": {},
   "outputs": [],
   "source": []
  },
  {
   "cell_type": "code",
   "execution_count": null,
   "metadata": {},
   "outputs": [],
   "source": []
  },
  {
   "cell_type": "code",
   "execution_count": null,
   "metadata": {},
   "outputs": [],
   "source": []
  },
  {
   "cell_type": "code",
   "execution_count": null,
   "metadata": {},
   "outputs": [],
   "source": []
  },
  {
   "cell_type": "code",
   "execution_count": null,
   "metadata": {},
   "outputs": [],
   "source": []
  },
  {
   "cell_type": "code",
   "execution_count": null,
   "metadata": {},
   "outputs": [],
   "source": []
  },
  {
   "cell_type": "code",
   "execution_count": null,
   "metadata": {},
   "outputs": [],
   "source": []
  },
  {
   "cell_type": "code",
   "execution_count": null,
   "metadata": {},
   "outputs": [],
   "source": []
  },
  {
   "cell_type": "code",
   "execution_count": null,
   "metadata": {},
   "outputs": [],
   "source": []
  },
  {
   "cell_type": "code",
   "execution_count": null,
   "metadata": {},
   "outputs": [],
   "source": []
  },
  {
   "cell_type": "code",
   "execution_count": null,
   "metadata": {},
   "outputs": [],
   "source": []
  },
  {
   "cell_type": "code",
   "execution_count": null,
   "metadata": {},
   "outputs": [],
   "source": []
  }
 ],
 "metadata": {
  "kernelspec": {
   "display_name": "Python 3",
   "language": "python",
   "name": "python3"
  },
  "language_info": {
   "codemirror_mode": {
    "name": "ipython",
    "version": 3
   },
   "file_extension": ".py",
   "mimetype": "text/x-python",
   "name": "python",
   "nbconvert_exporter": "python",
   "pygments_lexer": "ipython3",
   "version": "3.7.1"
  }
 },
 "nbformat": 4,
 "nbformat_minor": 2
}
