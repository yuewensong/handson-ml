{
 "cells": [
  {
   "cell_type": "code",
   "execution_count": 1,
   "metadata": {},
   "outputs": [],
   "source": [
    "import numpy as np\n",
    "\n",
    "X = 2 * np.random.rand(100, 1)\n",
    "y = 4 + 3 * X + np.random.randn(100, 1)"
   ]
  },
  {
   "cell_type": "code",
   "execution_count": 2,
   "metadata": {
    "scrolled": true
   },
   "outputs": [
    {
     "data": {
      "text/plain": [
       "array([[0.93130521],\n",
       "       [1.22019954],\n",
       "       [1.12324099],\n",
       "       [1.8008193 ],\n",
       "       [0.91349763],\n",
       "       [1.82040379],\n",
       "       [1.57613065],\n",
       "       [0.7331101 ],\n",
       "       [1.22352787],\n",
       "       [1.25505193],\n",
       "       [1.87891723],\n",
       "       [0.54725598],\n",
       "       [0.8538755 ],\n",
       "       [1.83663516],\n",
       "       [1.34365261],\n",
       "       [0.15103405],\n",
       "       [1.38241465],\n",
       "       [1.41245712],\n",
       "       [0.79784171],\n",
       "       [1.73391623],\n",
       "       [0.41770956],\n",
       "       [0.13848795],\n",
       "       [0.00361457],\n",
       "       [0.13711753],\n",
       "       [0.81262249],\n",
       "       [1.85040439],\n",
       "       [1.99249665],\n",
       "       [1.38989838],\n",
       "       [1.37440884],\n",
       "       [1.13028852],\n",
       "       [0.60086677],\n",
       "       [1.97358931],\n",
       "       [1.7736138 ],\n",
       "       [1.40698382],\n",
       "       [1.99232099],\n",
       "       [0.89974466],\n",
       "       [1.34904168],\n",
       "       [0.50375172],\n",
       "       [1.94564168],\n",
       "       [1.9633768 ],\n",
       "       [0.36938137],\n",
       "       [1.7416639 ],\n",
       "       [1.81533603],\n",
       "       [1.7445129 ],\n",
       "       [0.22259303],\n",
       "       [1.88473169],\n",
       "       [1.4907864 ],\n",
       "       [0.34460515],\n",
       "       [0.9323845 ],\n",
       "       [0.54165046],\n",
       "       [0.04348055],\n",
       "       [0.67810435],\n",
       "       [1.1564154 ],\n",
       "       [0.79383038],\n",
       "       [1.31672095],\n",
       "       [1.42254093],\n",
       "       [1.94079391],\n",
       "       [0.15806047],\n",
       "       [0.8055225 ],\n",
       "       [1.01434576],\n",
       "       [0.69277314],\n",
       "       [1.5758935 ],\n",
       "       [1.33141244],\n",
       "       [0.50987497],\n",
       "       [0.71946147],\n",
       "       [0.48977223],\n",
       "       [1.11145297],\n",
       "       [0.46640499],\n",
       "       [0.57946834],\n",
       "       [1.64785174],\n",
       "       [1.73203325],\n",
       "       [0.65589369],\n",
       "       [0.24691934],\n",
       "       [1.74940901],\n",
       "       [0.26883755],\n",
       "       [0.32478607],\n",
       "       [0.82840012],\n",
       "       [1.86963587],\n",
       "       [1.8371912 ],\n",
       "       [1.54919953],\n",
       "       [0.88915314],\n",
       "       [1.95031881],\n",
       "       [0.95463865],\n",
       "       [1.00143814],\n",
       "       [1.94992669],\n",
       "       [0.940725  ],\n",
       "       [1.91147154],\n",
       "       [0.70353202],\n",
       "       [1.14717246],\n",
       "       [0.30680358],\n",
       "       [1.25395538],\n",
       "       [0.06679886],\n",
       "       [1.56756566],\n",
       "       [1.17552168],\n",
       "       [1.80821626],\n",
       "       [1.62024091],\n",
       "       [0.20519141],\n",
       "       [0.21477988],\n",
       "       [1.06522762],\n",
       "       [1.68302182]])"
      ]
     },
     "execution_count": 2,
     "metadata": {},
     "output_type": "execute_result"
    }
   ],
   "source": [
    "X"
   ]
  },
  {
   "cell_type": "code",
   "execution_count": 3,
   "metadata": {
    "scrolled": true
   },
   "outputs": [
    {
     "data": {
      "text/plain": [
       "array([[ 5.94540519],\n",
       "       [ 7.1869277 ],\n",
       "       [ 7.35257336],\n",
       "       [10.42519168],\n",
       "       [ 5.84668798],\n",
       "       [ 9.94709214],\n",
       "       [ 8.96612189],\n",
       "       [ 6.70564187],\n",
       "       [ 5.30534873],\n",
       "       [ 8.50085245],\n",
       "       [ 9.76351097],\n",
       "       [ 4.81564238],\n",
       "       [ 7.94311909],\n",
       "       [ 8.29195239],\n",
       "       [ 8.5388093 ],\n",
       "       [ 3.6067608 ],\n",
       "       [10.67345768],\n",
       "       [ 7.15741308],\n",
       "       [ 5.78117317],\n",
       "       [ 9.61844106],\n",
       "       [ 2.96089918],\n",
       "       [ 4.68003843],\n",
       "       [ 3.03301447],\n",
       "       [ 3.28711346],\n",
       "       [ 6.98854803],\n",
       "       [10.49728842],\n",
       "       [10.93081009],\n",
       "       [ 6.95278082],\n",
       "       [ 8.6802313 ],\n",
       "       [ 6.14681262],\n",
       "       [ 4.2370375 ],\n",
       "       [ 8.81205477],\n",
       "       [ 9.45988402],\n",
       "       [ 7.84834887],\n",
       "       [10.81754348],\n",
       "       [ 8.69676793],\n",
       "       [ 3.94409015],\n",
       "       [ 6.48332471],\n",
       "       [ 9.02030857],\n",
       "       [10.04802198],\n",
       "       [ 3.74072514],\n",
       "       [ 8.66325022],\n",
       "       [ 9.32729097],\n",
       "       [ 9.28892334],\n",
       "       [ 5.89918322],\n",
       "       [ 9.86068644],\n",
       "       [ 8.85241852],\n",
       "       [ 4.52255211],\n",
       "       [ 7.72456014],\n",
       "       [ 4.75158071],\n",
       "       [ 5.38712547],\n",
       "       [ 6.06109491],\n",
       "       [ 6.48987701],\n",
       "       [ 5.39883049],\n",
       "       [ 8.88630672],\n",
       "       [ 6.46380019],\n",
       "       [10.39006659],\n",
       "       [ 4.15292961],\n",
       "       [ 4.0503972 ],\n",
       "       [ 8.65937447],\n",
       "       [ 4.84868265],\n",
       "       [ 8.22693377],\n",
       "       [ 6.74261011],\n",
       "       [ 4.27799383],\n",
       "       [ 4.94707518],\n",
       "       [ 7.05235059],\n",
       "       [ 6.65566163],\n",
       "       [ 5.96331199],\n",
       "       [ 6.08571395],\n",
       "       [ 8.50561264],\n",
       "       [ 9.54935754],\n",
       "       [ 5.7674012 ],\n",
       "       [ 3.43526421],\n",
       "       [10.43159423],\n",
       "       [ 4.1093705 ],\n",
       "       [ 8.27889077],\n",
       "       [ 5.59567784],\n",
       "       [10.19592503],\n",
       "       [11.51043712],\n",
       "       [ 8.85009766],\n",
       "       [ 7.72230689],\n",
       "       [10.42865147],\n",
       "       [ 5.759297  ],\n",
       "       [ 8.65346485],\n",
       "       [11.83958066],\n",
       "       [ 6.028852  ],\n",
       "       [10.25579588],\n",
       "       [ 5.03034496],\n",
       "       [ 8.60637818],\n",
       "       [ 2.67876114],\n",
       "       [ 8.00872713],\n",
       "       [ 5.01585948],\n",
       "       [ 9.32691641],\n",
       "       [ 6.8277181 ],\n",
       "       [ 8.79326031],\n",
       "       [10.0792082 ],\n",
       "       [ 3.97673711],\n",
       "       [ 5.86133768],\n",
       "       [ 7.84768134],\n",
       "       [10.14358085]])"
      ]
     },
     "execution_count": 3,
     "metadata": {},
     "output_type": "execute_result"
    }
   ],
   "source": [
    "y"
   ]
  },
  {
   "cell_type": "code",
   "execution_count": 4,
   "metadata": {},
   "outputs": [],
   "source": [
    "X_b = np.c_[np.ones((100, 1)), X]\n",
    "theta_best = np.linalg.inv(X_b.T.dot(X_b)).dot(X_b.T).dot(y)"
   ]
  },
  {
   "cell_type": "code",
   "execution_count": 5,
   "metadata": {},
   "outputs": [
    {
     "data": {
      "text/plain": [
       "array([[3.58173835],\n",
       "       [3.32888179]])"
      ]
     },
     "execution_count": 5,
     "metadata": {},
     "output_type": "execute_result"
    }
   ],
   "source": [
    "theta_best"
   ]
  },
  {
   "cell_type": "code",
   "execution_count": 6,
   "metadata": {},
   "outputs": [],
   "source": [
    "X_new = np.array([[0], [2]])"
   ]
  },
  {
   "cell_type": "code",
   "execution_count": 7,
   "metadata": {},
   "outputs": [
    {
     "data": {
      "text/plain": [
       "array([[0],\n",
       "       [2]])"
      ]
     },
     "execution_count": 7,
     "metadata": {},
     "output_type": "execute_result"
    }
   ],
   "source": [
    "X_new"
   ]
  },
  {
   "cell_type": "code",
   "execution_count": 8,
   "metadata": {},
   "outputs": [],
   "source": [
    "X_new_b = np.c_[np.ones((2, 1)), X_new]"
   ]
  },
  {
   "cell_type": "code",
   "execution_count": 9,
   "metadata": {},
   "outputs": [
    {
     "data": {
      "text/plain": [
       "array([[1., 0.],\n",
       "       [1., 2.]])"
      ]
     },
     "execution_count": 9,
     "metadata": {},
     "output_type": "execute_result"
    }
   ],
   "source": [
    "X_new_b"
   ]
  },
  {
   "cell_type": "code",
   "execution_count": 10,
   "metadata": {},
   "outputs": [],
   "source": [
    "y_predict = X_new_b.dot(theta_best)"
   ]
  },
  {
   "cell_type": "code",
   "execution_count": 11,
   "metadata": {},
   "outputs": [
    {
     "data": {
      "text/plain": [
       "array([[ 3.58173835],\n",
       "       [10.23950193]])"
      ]
     },
     "execution_count": 11,
     "metadata": {},
     "output_type": "execute_result"
    }
   ],
   "source": [
    "y_predict"
   ]
  },
  {
   "cell_type": "code",
   "execution_count": 12,
   "metadata": {},
   "outputs": [
    {
     "data": {
      "image/png": "[encoded data removed]",
      "text/plain": [
       "<Figure size 432x288 with 1 Axes>"
      ]
     },
     "metadata": {
      "needs_background": "light"
     },
     "output_type": "display_data"
    }
   ],
   "source": [
    "import matplotlib.pylab as plt\n",
    "%matplotlib inline\n",
    "\n",
    "plt.plot(X_new, y_predict, 'r-')\n",
    "plt.plot(X, y, 'b.')\n",
    "plt.axis([0, 2, 0, 15])\n",
    "plt.show()"
   ]
  },
  {
   "cell_type": "code",
   "execution_count": 13,
   "metadata": {},
   "outputs": [
    {
     "name": "stdout",
     "output_type": "stream",
     "text": [
      "[3.58173835] [[3.32888179]]\n",
      "[[ 3.58173835]\n",
      " [10.23950193]]\n"
     ]
    }
   ],
   "source": [
    "from sklearn.linear_model import LinearRegression\n",
    "lin_reg = LinearRegression()\n",
    "lin_reg.fit(X, y)\n",
    "print(lin_reg.intercept_, lin_reg.coef_)\n",
    "print(lin_reg.predict([[0],[2]]))"
   ]
  },
  {
   "cell_type": "markdown",
   "metadata": {},
   "source": [
    "### 批量梯度下降"
   ]
  },
  {
   "cell_type": "code",
   "execution_count": 14,
   "metadata": {},
   "outputs": [],
   "source": [
    "eta = 0.1\n",
    "n_iterations = 10000\n",
    "m = 100\n",
    "theta = np.random.randn(2, 1)"
   ]
  },
  {
   "cell_type": "code",
   "execution_count": 15,
   "metadata": {},
   "outputs": [
    {
     "data": {
      "text/plain": [
       "array([[ 1.66675659],\n",
       "       [-1.73608165]])"
      ]
     },
     "execution_count": 15,
     "metadata": {},
     "output_type": "execute_result"
    }
   ],
   "source": [
    "theta"
   ]
  },
  {
   "cell_type": "code",
   "execution_count": 16,
   "metadata": {},
   "outputs": [
    {
     "name": "stdout",
     "output_type": "stream",
     "text": [
      "[[4.25457561]\n",
      " [2.81121912]]\n",
      "[[3.94538505]\n",
      " [3.04910457]]\n"
     ]
    }
   ],
   "source": [
    "for iteration in range(n_iterations):\n",
    "    gradients = 2/m * X_b.T.dot(X_b.dot(theta) -  y)\n",
    "    theta = theta - eta * gradients\n",
    "    if iteration == 20:\n",
    "        print(theta)\n",
    "    if iteration == 41:\n",
    "        print(theta)"
   ]
  },
  {
   "cell_type": "code",
   "execution_count": 17,
   "metadata": {},
   "outputs": [
    {
     "data": {
      "text/plain": [
       "array([[3.58173835],\n",
       "       [3.32888179]])"
      ]
     },
     "execution_count": 17,
     "metadata": {},
     "output_type": "execute_result"
    }
   ],
   "source": [
    "theta"
   ]
  },
  {
   "cell_type": "code",
   "execution_count": 18,
   "metadata": {},
   "outputs": [],
   "source": [
    "n_epochs = 50\n",
    "t0, t1 = 5, 50\n",
    "def learning_schedule(t):\n",
    "    return t0 / (t + t1)\n",
    "theta = np.random.randn(2, 1)\n",
    "\n",
    "for epoch in range(n_epochs):\n",
    "    for i in range(m):\n",
    "        random_index = np.random.randint(m)\n",
    "        xi = X_b[random_index: random_index + 1]\n",
    "        yi = y[random_index: random_index + 1]\n",
    "        gradients = 2 * xi.T.dot(xi.dot(theta) - yi)\n",
    "        eta = learning_schedule(epoch * m + i)\n",
    "        theta = theta - eta * gradients"
   ]
  },
  {
   "cell_type": "code",
   "execution_count": 19,
   "metadata": {},
   "outputs": [
    {
     "data": {
      "text/plain": [
       "array([[3.65468893],\n",
       "       [3.31163755]])"
      ]
     },
     "execution_count": 19,
     "metadata": {},
     "output_type": "execute_result"
    }
   ],
   "source": [
    "theta"
   ]
  },
  {
   "cell_type": "code",
   "execution_count": 20,
   "metadata": {},
   "outputs": [
    {
     "data": {
      "text/plain": [
       "array([[ 5.94540519],\n",
       "       [ 7.1869277 ],\n",
       "       [ 7.35257336],\n",
       "       [10.42519168],\n",
       "       [ 5.84668798],\n",
       "       [ 9.94709214],\n",
       "       [ 8.96612189],\n",
       "       [ 6.70564187],\n",
       "       [ 5.30534873],\n",
       "       [ 8.50085245],\n",
       "       [ 9.76351097],\n",
       "       [ 4.81564238],\n",
       "       [ 7.94311909],\n",
       "       [ 8.29195239],\n",
       "       [ 8.5388093 ],\n",
       "       [ 3.6067608 ],\n",
       "       [10.67345768],\n",
       "       [ 7.15741308],\n",
       "       [ 5.78117317],\n",
       "       [ 9.61844106],\n",
       "       [ 2.96089918],\n",
       "       [ 4.68003843],\n",
       "       [ 3.03301447],\n",
       "       [ 3.28711346],\n",
       "       [ 6.98854803],\n",
       "       [10.49728842],\n",
       "       [10.93081009],\n",
       "       [ 6.95278082],\n",
       "       [ 8.6802313 ],\n",
       "       [ 6.14681262],\n",
       "       [ 4.2370375 ],\n",
       "       [ 8.81205477],\n",
       "       [ 9.45988402],\n",
       "       [ 7.84834887],\n",
       "       [10.81754348],\n",
       "       [ 8.69676793],\n",
       "       [ 3.94409015],\n",
       "       [ 6.48332471],\n",
       "       [ 9.02030857],\n",
       "       [10.04802198],\n",
       "       [ 3.74072514],\n",
       "       [ 8.66325022],\n",
       "       [ 9.32729097],\n",
       "       [ 9.28892334],\n",
       "       [ 5.89918322],\n",
       "       [ 9.86068644],\n",
       "       [ 8.85241852],\n",
       "       [ 4.52255211],\n",
       "       [ 7.72456014],\n",
       "       [ 4.75158071],\n",
       "       [ 5.38712547],\n",
       "       [ 6.06109491],\n",
       "       [ 6.48987701],\n",
       "       [ 5.39883049],\n",
       "       [ 8.88630672],\n",
       "       [ 6.46380019],\n",
       "       [10.39006659],\n",
       "       [ 4.15292961],\n",
       "       [ 4.0503972 ],\n",
       "       [ 8.65937447],\n",
       "       [ 4.84868265],\n",
       "       [ 8.22693377],\n",
       "       [ 6.74261011],\n",
       "       [ 4.27799383],\n",
       "       [ 4.94707518],\n",
       "       [ 7.05235059],\n",
       "       [ 6.65566163],\n",
       "       [ 5.96331199],\n",
       "       [ 6.08571395],\n",
       "       [ 8.50561264],\n",
       "       [ 9.54935754],\n",
       "       [ 5.7674012 ],\n",
       "       [ 3.43526421],\n",
       "       [10.43159423],\n",
       "       [ 4.1093705 ],\n",
       "       [ 8.27889077],\n",
       "       [ 5.59567784],\n",
       "       [10.19592503],\n",
       "       [11.51043712],\n",
       "       [ 8.85009766],\n",
       "       [ 7.72230689],\n",
       "       [10.42865147],\n",
       "       [ 5.759297  ],\n",
       "       [ 8.65346485],\n",
       "       [11.83958066],\n",
       "       [ 6.028852  ],\n",
       "       [10.25579588],\n",
       "       [ 5.03034496],\n",
       "       [ 8.60637818],\n",
       "       [ 2.67876114],\n",
       "       [ 8.00872713],\n",
       "       [ 5.01585948],\n",
       "       [ 9.32691641],\n",
       "       [ 6.8277181 ],\n",
       "       [ 8.79326031],\n",
       "       [10.0792082 ],\n",
       "       [ 3.97673711],\n",
       "       [ 5.86133768],\n",
       "       [ 7.84768134],\n",
       "       [10.14358085]])"
      ]
     },
     "execution_count": 20,
     "metadata": {},
     "output_type": "execute_result"
    }
   ],
   "source": [
    "y"
   ]
  },
  {
   "cell_type": "code",
   "execution_count": 21,
   "metadata": {},
   "outputs": [
    {
     "data": {
      "text/plain": [
       "array([ 5.94540519,  7.1869277 ,  7.35257336, 10.42519168,  5.84668798,\n",
       "        9.94709214,  8.96612189,  6.70564187,  5.30534873,  8.50085245,\n",
       "        9.76351097,  4.81564238,  7.94311909,  8.29195239,  8.5388093 ,\n",
       "        3.6067608 , 10.67345768,  7.15741308,  5.78117317,  9.61844106,\n",
       "        2.96089918,  4.68003843,  3.03301447,  3.28711346,  6.98854803,\n",
       "       10.49728842, 10.93081009,  6.95278082,  8.6802313 ,  6.14681262,\n",
       "        4.2370375 ,  8.81205477,  9.45988402,  7.84834887, 10.81754348,\n",
       "        8.69676793,  3.94409015,  6.48332471,  9.02030857, 10.04802198,\n",
       "        3.74072514,  8.66325022,  9.32729097,  9.28892334,  5.89918322,\n",
       "        9.86068644,  8.85241852,  4.52255211,  7.72456014,  4.75158071,\n",
       "        5.38712547,  6.06109491,  6.48987701,  5.39883049,  8.88630672,\n",
       "        6.46380019, 10.39006659,  4.15292961,  4.0503972 ,  8.65937447,\n",
       "        4.84868265,  8.22693377,  6.74261011,  4.27799383,  4.94707518,\n",
       "        7.05235059,  6.65566163,  5.96331199,  6.08571395,  8.50561264,\n",
       "        9.54935754,  5.7674012 ,  3.43526421, 10.43159423,  4.1093705 ,\n",
       "        8.27889077,  5.59567784, 10.19592503, 11.51043712,  8.85009766,\n",
       "        7.72230689, 10.42865147,  5.759297  ,  8.65346485, 11.83958066,\n",
       "        6.028852  , 10.25579588,  5.03034496,  8.60637818,  2.67876114,\n",
       "        8.00872713,  5.01585948,  9.32691641,  6.8277181 ,  8.79326031,\n",
       "       10.0792082 ,  3.97673711,  5.86133768,  7.84768134, 10.14358085])"
      ]
     },
     "execution_count": 21,
     "metadata": {},
     "output_type": "execute_result"
    }
   ],
   "source": [
    "y.ravel()"
   ]
  },
  {
   "cell_type": "code",
   "execution_count": 22,
   "metadata": {},
   "outputs": [],
   "source": [
    "test_array = np.array([1,2,3,4,5])"
   ]
  },
  {
   "cell_type": "code",
   "execution_count": 23,
   "metadata": {},
   "outputs": [
    {
     "data": {
      "text/plain": [
       "(5,)"
      ]
     },
     "execution_count": 23,
     "metadata": {},
     "output_type": "execute_result"
    }
   ],
   "source": [
    "test_array.shape"
   ]
  },
  {
   "cell_type": "code",
   "execution_count": 24,
   "metadata": {},
   "outputs": [
    {
     "name": "stdout",
     "output_type": "stream",
     "text": [
      "[3.57536934] [3.33958688]\n"
     ]
    },
    {
     "name": "stderr",
     "output_type": "stream",
     "text": [
      "F:\\installation\\anaconda\\lib\\site-packages\\sklearn\\linear_model\\stochastic_gradient.py:152: DeprecationWarning: n_iter parameter is deprecated in 0.19 and will be removed in 0.21. Use max_iter and tol instead.\n",
      "  DeprecationWarning)\n",
      "F:\\installation\\anaconda\\lib\\site-packages\\sklearn\\utils\\validation.py:761: DataConversionWarning: A column-vector y was passed when a 1d array was expected. Please change the shape of y to (n_samples, ), for example using ravel().\n",
      "  y = column_or_1d(y, warn=True)\n"
     ]
    }
   ],
   "source": [
    "from sklearn.linear_model import SGDRegressor\n",
    "sgd_reg = SGDRegressor(n_iter=50, penalty=None, eta0=0.1)\n",
    "sgd_reg.fit(X, y)\n",
    "print(sgd_reg.intercept_, sgd_reg.coef_)"
   ]
  },
  {
   "cell_type": "code",
   "execution_count": 25,
   "metadata": {},
   "outputs": [],
   "source": [
    "m = 100\n",
    "X = 6 * np.random.rand(m, 1) - 3\n",
    "y = 0.5 * X**2 + X + 2 + np.random.randn(m, 1)"
   ]
  },
  {
   "cell_type": "code",
   "execution_count": 26,
   "metadata": {},
   "outputs": [
    {
     "name": "stdout",
     "output_type": "stream",
     "text": [
      "[1.67965453] [1.67965453 2.82123933]\n"
     ]
    }
   ],
   "source": [
    "from sklearn.preprocessing import PolynomialFeatures\n",
    "\n",
    "poly_features = PolynomialFeatures(degree=2, include_bias=False)\n",
    "X_poly = poly_features.fit_transform(X)\n",
    "print(X[0], X_poly[0])"
   ]
  },
  {
   "cell_type": "code",
   "execution_count": 27,
   "metadata": {},
   "outputs": [
    {
     "name": "stdout",
     "output_type": "stream",
     "text": [
      "[1.93503684] [[0.98479674 0.50036751]]\n"
     ]
    }
   ],
   "source": [
    "lin_reg = LinearRegression()\n",
    "lin_reg.fit(X_poly, y)\n",
    "print(lin_reg.intercept_, lin_reg.coef_)"
   ]
  },
  {
   "cell_type": "code",
   "execution_count": 28,
   "metadata": {},
   "outputs": [
    {
     "data": {
      "text/plain": [
       "array([[ 1.67965453e+00,  2.82123933e+00],\n",
       "       [-1.64018551e+00,  2.69020852e+00],\n",
       "       [-2.87013424e+00,  8.23767058e+00],\n",
       "       [-1.94195079e+00,  3.77117286e+00],\n",
       "       [-1.32694132e+00,  1.76077328e+00],\n",
       "       [ 2.65141036e+00,  7.02997687e+00],\n",
       "       [-1.46319449e+00,  2.14093813e+00],\n",
       "       [ 1.72320286e+00,  2.96942810e+00],\n",
       "       [ 2.43365285e+00,  5.92266617e+00],\n",
       "       [ 3.14934962e-01,  9.91840303e-02],\n",
       "       [ 3.58882624e-01,  1.28796738e-01],\n",
       "       [ 1.19003658e+00,  1.41618706e+00],\n",
       "       [ 1.73184409e+00,  2.99928394e+00],\n",
       "       [-7.85201259e-01,  6.16541017e-01],\n",
       "       [-1.66273922e+00,  2.76470170e+00],\n",
       "       [ 6.39769979e-01,  4.09305627e-01],\n",
       "       [-1.15874156e+00,  1.34268201e+00],\n",
       "       [-5.49238917e-01,  3.01663388e-01],\n",
       "       [ 7.66365357e-01,  5.87315860e-01],\n",
       "       [ 2.71061433e+00,  7.34743006e+00],\n",
       "       [ 2.82541385e+00,  7.98296341e+00],\n",
       "       [-2.76520934e+00,  7.64638268e+00],\n",
       "       [-1.55220162e+00,  2.40932988e+00],\n",
       "       [ 3.65462426e-01,  1.33562785e-01],\n",
       "       [-2.44005998e+00,  5.95389273e+00],\n",
       "       [ 2.50884790e+00,  6.29431780e+00],\n",
       "       [-5.28498830e-01,  2.79311013e-01],\n",
       "       [-2.77226743e+00,  7.68546673e+00],\n",
       "       [-5.12468335e-01,  2.62623795e-01],\n",
       "       [-1.78152066e+00,  3.17381585e+00],\n",
       "       [ 5.54028298e-01,  3.06947355e-01],\n",
       "       [ 2.44074444e+00,  5.95723342e+00],\n",
       "       [-2.62056483e+00,  6.86736004e+00],\n",
       "       [ 1.56286634e+00,  2.44255119e+00],\n",
       "       [-2.51174696e+00,  6.30887279e+00],\n",
       "       [ 5.25974538e-01,  2.76649215e-01],\n",
       "       [-6.63276271e-01,  4.39935411e-01],\n",
       "       [-2.76303005e-01,  7.63433507e-02],\n",
       "       [-8.23497270e-01,  6.78147754e-01],\n",
       "       [-2.13060761e+00,  4.53948881e+00],\n",
       "       [-2.00392560e+00,  4.01571781e+00],\n",
       "       [ 2.87606045e+00,  8.27172369e+00],\n",
       "       [-2.08402833e+00,  4.34317407e+00],\n",
       "       [-2.62185426e+00,  6.87411974e+00],\n",
       "       [ 7.94435831e-01,  6.31128290e-01],\n",
       "       [-2.83831371e+00,  8.05602474e+00],\n",
       "       [-7.61895681e-01,  5.80485029e-01],\n",
       "       [-2.36099716e+00,  5.57430759e+00],\n",
       "       [-2.82148415e+00,  7.96077283e+00],\n",
       "       [ 5.21628849e-01,  2.72096656e-01],\n",
       "       [ 5.14980890e-01,  2.65205317e-01],\n",
       "       [-7.58127149e-01,  5.74756774e-01],\n",
       "       [-1.51123309e+00,  2.28382545e+00],\n",
       "       [-1.55233433e+00,  2.40974186e+00],\n",
       "       [ 1.62690566e-01,  2.64682202e-02],\n",
       "       [-6.09682076e-01,  3.71712234e-01],\n",
       "       [ 7.18589132e-01,  5.16370341e-01],\n",
       "       [ 2.79696175e+00,  7.82299504e+00],\n",
       "       [ 2.10896186e+00,  4.44772013e+00],\n",
       "       [ 7.33156436e-01,  5.37518360e-01],\n",
       "       [-1.54802620e+00,  2.39638511e+00],\n",
       "       [ 1.88410595e+00,  3.54985524e+00],\n",
       "       [-8.19866265e-01,  6.72180693e-01],\n",
       "       [-3.55148531e-01,  1.26130479e-01],\n",
       "       [-1.82488351e+00,  3.33019984e+00],\n",
       "       [-8.45374466e-01,  7.14657988e-01],\n",
       "       [ 2.56385279e+00,  6.57334113e+00],\n",
       "       [ 1.73239763e+00,  3.00120156e+00],\n",
       "       [-1.30834077e+00,  1.71175556e+00],\n",
       "       [ 8.78860382e-02,  7.72395571e-03],\n",
       "       [-1.84455106e+00,  3.40236863e+00],\n",
       "       [-2.91006165e+00,  8.46845883e+00],\n",
       "       [-2.19540312e+00,  4.81979484e+00],\n",
       "       [-2.68742474e+00,  7.22225173e+00],\n",
       "       [ 2.51969152e-01,  6.34884534e-02],\n",
       "       [ 2.46744103e+00,  6.08826522e+00],\n",
       "       [-2.26405757e+00,  5.12595668e+00],\n",
       "       [-2.43168870e+00,  5.91310994e+00],\n",
       "       [ 1.03455535e+00,  1.07030477e+00],\n",
       "       [ 1.80741627e+00,  3.26675359e+00],\n",
       "       [-1.53222116e+00,  2.34770167e+00],\n",
       "       [-5.27292354e-01,  2.78037227e-01],\n",
       "       [-1.09072996e+00,  1.18969185e+00],\n",
       "       [-1.34642549e+00,  1.81286159e+00],\n",
       "       [-1.18998575e+00,  1.41606609e+00],\n",
       "       [ 1.27202554e+00,  1.61804899e+00],\n",
       "       [-2.51492778e+00,  6.32486173e+00],\n",
       "       [ 4.27082028e-01,  1.82399058e-01],\n",
       "       [-7.11176259e-02,  5.05771671e-03],\n",
       "       [ 3.13793962e-01,  9.84666508e-02],\n",
       "       [-1.17138316e+00,  1.37213851e+00],\n",
       "       [ 1.83948353e+00,  3.38369967e+00],\n",
       "       [-2.66079358e+00,  7.07982250e+00],\n",
       "       [ 1.63651481e+00,  2.67818071e+00],\n",
       "       [ 1.50487628e+00,  2.26465262e+00],\n",
       "       [ 3.06905830e-01,  9.41911885e-02],\n",
       "       [-7.23175856e-01,  5.22983319e-01],\n",
       "       [ 1.63476197e+00,  2.67244670e+00],\n",
       "       [ 1.26649152e+00,  1.60400077e+00],\n",
       "       [-2.21980847e+00,  4.92754965e+00]])"
      ]
     },
     "execution_count": 28,
     "metadata": {},
     "output_type": "execute_result"
    }
   ],
   "source": [
    "X_poly"
   ]
  },
  {
   "cell_type": "code",
   "execution_count": null,
   "metadata": {},
   "outputs": [],
   "source": []
  },
  {
   "cell_type": "code",
   "execution_count": null,
   "metadata": {},
   "outputs": [],
   "source": []
  },
  {
   "cell_type": "code",
   "execution_count": 29,
   "metadata": {},
   "outputs": [],
   "source": [
    "y_predict = lin_reg.predict(X_poly)"
   ]
  },
  {
   "cell_type": "code",
   "execution_count": 30,
   "metadata": {},
   "outputs": [
    {
     "data": {
      "text/plain": [
       "[<matplotlib.lines.Line2D at 0x1c3a3d2eb38>]"
      ]
     },
     "execution_count": 30,
     "metadata": {},
     "output_type": "execute_result"
    },
    {
     "data": {
      "image/png": "[encoded data removed]",
      "text/plain": [
       "<Figure size 432x288 with 1 Axes>"
      ]
     },
     "metadata": {
      "needs_background": "light"
     },
     "output_type": "display_data"
    }
   ],
   "source": [
    "plt.plot(X, y_predict, 'rs')"
   ]
  },
  {
   "cell_type": "markdown",
   "metadata": {},
   "source": [
    "### 学习曲线"
   ]
  },
  {
   "cell_type": "code",
   "execution_count": 31,
   "metadata": {},
   "outputs": [],
   "source": [
    "from sklearn.metrics import mean_squared_error\n",
    "from sklearn.model_selection import train_test_split\n",
    "\n",
    "def plot_learning_curves(model, X, y):\n",
    "    X_train, X_val, y_train, y_val = train_test_split(X, y, test_size=0.2)\n",
    "    train_errors, val_errors = [], []\n",
    "    for m in range(1, len(X_train)):\n",
    "        model.fit(X_train[:m], y_train[:m])\n",
    "        y_train_predict = model.predict(X_train[:m])\n",
    "        y_val_predict = model.predict(X_val)\n",
    "        train_errors.append(mean_squared_error(y_train_predict, y_train[:m]))\n",
    "        val_errors.append(mean_squared_error(y_val_predict, y_val))\n",
    "        plt.plot(np.sqrt(train_errors), 'r-+')\n",
    "        plt.plot(np.sqrt(val_errors), 'b-')\n",
    "        plt.legend(['train', 'val'])"
   ]
  },
  {
   "cell_type": "code",
   "execution_count": 32,
   "metadata": {},
   "outputs": [
    {
     "data": {
      "image/png": "[encoded data removed]",
      "text/plain": [
       "<Figure size 432x288 with 1 Axes>"
      ]
     },
     "metadata": {
      "needs_background": "light"
     },
     "output_type": "display_data"
    }
   ],
   "source": [
    "lin_reg = LinearRegression()\n",
    "plot_learning_curves(lin_reg, X, y)"
   ]
  },
  {
   "cell_type": "code",
   "execution_count": 33,
   "metadata": {},
   "outputs": [],
   "source": [
    "from sklearn.pipeline import Pipeline\n",
    "polynomial_regression = Pipeline((\n",
    "    ('poly_features', PolynomialFeatures(degree=10, include_bias=False)),\n",
    "    ('sgd_reg', LinearRegression()), \n",
    "))"
   ]
  },
  {
   "cell_type": "code",
   "execution_count": 34,
   "metadata": {},
   "outputs": [
    {
     "data": {
      "text/plain": [
       "[0, 80, 0, 3]"
      ]
     },
     "execution_count": 34,
     "metadata": {},
     "output_type": "execute_result"
    },
    {
     "data": {
      "image/png": "[encoded data removed]",
      "text/plain": [
       "<Figure size 432x288 with 1 Axes>"
      ]
     },
     "metadata": {
      "needs_background": "light"
     },
     "output_type": "display_data"
    }
   ],
   "source": [
    "plot_learning_curves(polynomial_regression, X, y)\n",
    "plt.axis([0, 80, 0, 3])"
   ]
  },
  {
   "cell_type": "markdown",
   "metadata": {},
   "source": [
    "### 岭回归"
   ]
  },
  {
   "cell_type": "code",
   "execution_count": 35,
   "metadata": {},
   "outputs": [
    {
     "name": "stdout",
     "output_type": "stream",
     "text": [
      "[[4.697536]]\n"
     ]
    }
   ],
   "source": [
    "from sklearn.linear_model import Ridge\n",
    "ridge_reg = Ridge(alpha=1, solver='cholesky')\n",
    "ridge_reg.fit(X, y)\n",
    "print(ridge_reg.predict([[1.5]]))"
   ]
  },
  {
   "cell_type": "code",
   "execution_count": 36,
   "metadata": {},
   "outputs": [
    {
     "name": "stdout",
     "output_type": "stream",
     "text": [
      "[3.60082275]\n"
     ]
    },
    {
     "name": "stderr",
     "output_type": "stream",
     "text": [
      "F:\\installation\\anaconda\\lib\\site-packages\\sklearn\\linear_model\\stochastic_gradient.py:166: FutureWarning: max_iter and tol parameters have been added in SGDRegressor in 0.19. If both are left unset, they default to max_iter=5 and tol=None. If tol is not None, max_iter defaults to max_iter=1000. From 0.21, default max_iter will be 1000, and default tol will be 1e-3.\n",
      "  FutureWarning)\n"
     ]
    }
   ],
   "source": [
    "sgd_reg = SGDRegressor(penalty='l2')\n",
    "sgd_reg.fit(X, y.ravel())\n",
    "print(sgd_reg.predict([[1.5]]))"
   ]
  },
  {
   "cell_type": "markdown",
   "metadata": {},
   "source": [
    "### lasso回归"
   ]
  },
  {
   "cell_type": "code",
   "execution_count": 37,
   "metadata": {},
   "outputs": [
    {
     "name": "stdout",
     "output_type": "stream",
     "text": [
      "[4.64085336]\n"
     ]
    }
   ],
   "source": [
    "from sklearn.linear_model import Lasso\n",
    "lasso_reg = Lasso(alpha=0.1)\n",
    "lasso_reg.fit(X, y)\n",
    "print(lasso_reg.predict([[1.5]]))"
   ]
  },
  {
   "cell_type": "markdown",
   "metadata": {},
   "source": [
    "### 弹性网络"
   ]
  },
  {
   "cell_type": "code",
   "execution_count": 38,
   "metadata": {},
   "outputs": [
    {
     "name": "stdout",
     "output_type": "stream",
     "text": [
      "[4.64594591]\n"
     ]
    }
   ],
   "source": [
    "from sklearn.linear_model import ElasticNet\n",
    "elastic_net = ElasticNet(alpha=0.1 , l1_ratio=0.5)\n",
    "elastic_net.fit(X, y)\n",
    "print(elastic_net.predict([[1.5]]))"
   ]
  },
  {
   "cell_type": "markdown",
   "metadata": {},
   "source": [
    "### 早期停止法"
   ]
  },
  {
   "cell_type": "code",
   "execution_count": 39,
   "metadata": {},
   "outputs": [],
   "source": [
    "from sklearn.base import clone\n",
    "from sklearn.preprocessing import StandardScaler\n",
    "\n",
    "sgd_reg = SGDRegressor(max_iter=1000, tol=0.001, warm_start=True, penalty=None, learning_rate='constant', eta0=0.0005)\n",
    "minimum_val_error = float('inf')\n",
    "best_epoch = None\n",
    "best_model = None\n",
    "poly_stand = Pipeline([\n",
    "    ('polynomial', PolynomialFeatures(degree=90, include_bias=False)),\n",
    "    ('standerscale', StandardScaler()),\n",
    "])\n",
    "X_train, X_val, y_train, y_val = train_test_split(X, y.ravel(), test_size=0.2)\n",
    "X_train_poly_scaled = poly_stand.fit_transform(X_train)\n",
    "X_val_poly_scaled = poly_stand.fit_transform(X_val)\n",
    "for epoch in range(1000):\n",
    "    sgd_reg.fit(X_train_poly_scaled, y_train)\n",
    "    y_val_predict = sgd_reg.predict(X_val_poly_scaled)\n",
    "    val_error = mean_squared_error(y_val_predict, y_val)\n",
    "    if val_error < minimum_val_error:\n",
    "        minimum_val_error = val_error\n",
    "        best_epoch = epoch\n",
    "        best_model = clone(sgd_reg)"
   ]
  },
  {
   "cell_type": "markdown",
   "metadata": {},
   "source": [
    "### 逻辑回归"
   ]
  },
  {
   "cell_type": "code",
   "execution_count": 40,
   "metadata": {},
   "outputs": [
    {
     "data": {
      "text/plain": [
       "['data', 'target', 'target_names', 'DESCR', 'feature_names', 'filename']"
      ]
     },
     "execution_count": 40,
     "metadata": {},
     "output_type": "execute_result"
    }
   ],
   "source": [
    "from sklearn import datasets\n",
    "iris = datasets.load_iris()\n",
    "list(iris.keys())"
   ]
  },
  {
   "cell_type": "code",
   "execution_count": 42,
   "metadata": {},
   "outputs": [],
   "source": [
    "X = iris['data'][:,3:]\n",
    "y = (iris['target']==2).astype(np.int)"
   ]
  },
  {
   "cell_type": "code",
   "execution_count": 43,
   "metadata": {},
   "outputs": [
    {
     "name": "stderr",
     "output_type": "stream",
     "text": [
      "F:\\installation\\anaconda\\lib\\site-packages\\sklearn\\linear_model\\logistic.py:433: FutureWarning: Default solver will be changed to 'lbfgs' in 0.22. Specify a solver to silence this warning.\n",
      "  FutureWarning)\n"
     ]
    },
    {
     "data": {
      "text/plain": [
       "LogisticRegression(C=1.0, class_weight=None, dual=False, fit_intercept=True,\n",
       "          intercept_scaling=1, max_iter=100, multi_class='warn',\n",
       "          n_jobs=None, penalty='l2', random_state=None, solver='warn',\n",
       "          tol=0.0001, verbose=0, warm_start=False)"
      ]
     },
     "execution_count": 43,
     "metadata": {},
     "output_type": "execute_result"
    }
   ],
   "source": [
    "from sklearn.linear_model import LogisticRegression\n",
    "\n",
    "log_reg = LogisticRegression()\n",
    "log_reg.fit(X, y)"
   ]
  },
  {
   "cell_type": "code",
   "execution_count": 44,
   "metadata": {},
   "outputs": [],
   "source": [
    "X_new = np.linspace(0, 3, 1000).reshape(-1, 1)\n",
    "y_proba = log_reg.predict_proba(X_new)"
   ]
  },
  {
   "cell_type": "code",
   "execution_count": 45,
   "metadata": {},
   "outputs": [
    {
     "data": {
      "text/plain": [
       "array([[0.98554411, 0.01445589],\n",
       "       [0.98543168, 0.01456832],\n",
       "       [0.98531838, 0.01468162],\n",
       "       ...,\n",
       "       [0.02618938, 0.97381062],\n",
       "       [0.02598963, 0.97401037],\n",
       "       [0.02579136, 0.97420864]])"
      ]
     },
     "execution_count": 45,
     "metadata": {},
     "output_type": "execute_result"
    }
   ],
   "source": [
    "y_proba"
   ]
  },
  {
   "cell_type": "code",
   "execution_count": 49,
   "metadata": {},
   "outputs": [
    {
     "data": {
      "text/plain": [
       "<matplotlib.legend.Legend at 0x1c3a597bb70>"
      ]
     },
     "execution_count": 49,
     "metadata": {},
     "output_type": "execute_result"
    },
    {
     "data": {
      "image/png": "[encoded data removed]",
      "text/plain": [
       "<Figure size 432x288 with 1 Axes>"
      ]
     },
     "metadata": {
      "needs_background": "light"
     },
     "output_type": "display_data"
    }
   ],
   "source": [
    "plt.plot(X_new, y_proba[:, 1], 'g-', label='iris-virginica')\n",
    "plt.plot(X_new, y_proba[:, 0], 'b--', label='not iris-virginica')\n",
    "plt.legend(loc='best')"
   ]
  },
  {
   "cell_type": "code",
   "execution_count": 58,
   "metadata": {},
   "outputs": [
    {
     "data": {
      "text/plain": [
       "array([1, 0])"
      ]
     },
     "execution_count": 58,
     "metadata": {},
     "output_type": "execute_result"
    }
   ],
   "source": [
    "log_reg.predict([[1.7], [1.5]])"
   ]
  },
  {
   "cell_type": "markdown",
   "metadata": {},
   "source": [
    "### softmax回归/多元逻辑回归"
   ]
  },
  {
   "cell_type": "code",
   "execution_count": 59,
   "metadata": {},
   "outputs": [],
   "source": [
    "X = iris['data'][:, (2,3)]\n",
    "y = iris['target']"
   ]
  },
  {
   "cell_type": "code",
   "execution_count": 61,
   "metadata": {},
   "outputs": [
    {
     "data": {
      "text/plain": [
       "LogisticRegression(C=10, class_weight=None, dual=False, fit_intercept=True,\n",
       "          intercept_scaling=1, max_iter=100, multi_class='multinomial',\n",
       "          n_jobs=None, penalty='l2', random_state=None, solver='lbfgs',\n",
       "          tol=0.0001, verbose=0, warm_start=False)"
      ]
     },
     "execution_count": 61,
     "metadata": {},
     "output_type": "execute_result"
    }
   ],
   "source": [
    "softmax_reg = LogisticRegression(multi_class='multinomial', solver='lbfgs', C=10)\n",
    "softmax_reg.fit(X, y)"
   ]
  },
  {
   "cell_type": "code",
   "execution_count": 62,
   "metadata": {},
   "outputs": [
    {
     "data": {
      "text/plain": [
       "array([2])"
      ]
     },
     "execution_count": 62,
     "metadata": {},
     "output_type": "execute_result"
    }
   ],
   "source": [
    "softmax_reg.predict([[5,2]])"
   ]
  },
  {
   "cell_type": "code",
   "execution_count": 63,
   "metadata": {},
   "outputs": [
    {
     "data": {
      "text/plain": [
       "array([[6.38014896e-07, 5.74929995e-02, 9.42506362e-01]])"
      ]
     },
     "execution_count": 63,
     "metadata": {},
     "output_type": "execute_result"
    }
   ],
   "source": [
    "softmax_reg.predict_proba([[5,2]])"
   ]
  },
  {
   "cell_type": "code",
   "execution_count": null,
   "metadata": {},
   "outputs": [],
   "source": []
  },
  {
   "cell_type": "code",
   "execution_count": null,
   "metadata": {},
   "outputs": [],
   "source": []
  },
  {
   "cell_type": "code",
   "execution_count": null,
   "metadata": {},
   "outputs": [],
   "source": []
  },
  {
   "cell_type": "code",
   "execution_count": null,
   "metadata": {},
   "outputs": [],
   "source": []
  },
  {
   "cell_type": "code",
   "execution_count": null,
   "metadata": {},
   "outputs": [],
   "source": []
  },
  {
   "cell_type": "code",
   "execution_count": null,
   "metadata": {},
   "outputs": [],
   "source": []
  },
  {
   "cell_type": "code",
   "execution_count": null,
   "metadata": {},
   "outputs": [],
   "source": []
  },
  {
   "cell_type": "code",
   "execution_count": null,
   "metadata": {},
   "outputs": [],
   "source": []
  },
  {
   "cell_type": "code",
   "execution_count": null,
   "metadata": {},
   "outputs": [],
   "source": []
  },
  {
   "cell_type": "code",
   "execution_count": null,
   "metadata": {},
   "outputs": [],
   "source": []
  },
  {
   "cell_type": "code",
   "execution_count": null,
   "metadata": {},
   "outputs": [],
   "source": []
  },
  {
   "cell_type": "code",
   "execution_count": null,
   "metadata": {},
   "outputs": [],
   "source": []
  },
  {
   "cell_type": "code",
   "execution_count": null,
   "metadata": {},
   "outputs": [],
   "source": []
  },
  {
   "cell_type": "code",
   "execution_count": null,
   "metadata": {},
   "outputs": [],
   "source": []
  }
 ],
 "metadata": {
  "kernelspec": {
   "display_name": "Python 3",
   "language": "python",
   "name": "python3"
  },
  "language_info": {
   "codemirror_mode": {
    "name": "ipython",
    "version": 3
   },
   "file_extension": ".py",
   "mimetype": "text/x-python",
   "name": "python",
   "nbconvert_exporter": "python",
   "pygments_lexer": "ipython3",
   "version": "3.7.1"
  }
 },
 "nbformat": 4,
 "nbformat_minor": 2
}
